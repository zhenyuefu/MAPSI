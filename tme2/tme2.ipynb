{
 "cells": [
  {
   "cell_type": "code",
   "execution_count": 1,
   "metadata": {
    "pycharm": {
     "name": "#%%\n"
    }
   },
   "outputs": [],
   "source": [
    "import numpy as np"
   ]
  },
  {
   "cell_type": "markdown",
   "metadata": {
    "pycharm": {
     "name": "#%% md\n"
    }
   },
   "source": [
    "# MAPSI - TME  - Rappels de Proba/stats"
   ]
  },
  {
   "cell_type": "markdown",
   "metadata": {
    "pycharm": {
     "name": "#%% md\n"
    }
   },
   "source": [
    "Fanxiang ZENG \n",
    "Zhenyue FU"
   ]
  },
  {
   "cell_type": "markdown",
   "metadata": {
    "pycharm": {
     "name": "#%% md\n"
    }
   },
   "source": [
    "## I- La planche de Galton (<font color=\"red\"> obligatoire</font>)"
   ]
  },
  {
   "cell_type": "markdown",
   "metadata": {
    "pycharm": {
     "name": "#%% md\n"
    }
   },
   "source": [
    "### I.1- Loi de Bernoulli\n",
    "Écrire une fonction `bernoulli: float ->int` qui prend en argument la paramètre $p \\in [0,1]$ et qui renvoie aléatoirement $0$ (avec la probabilité $1-p$) ou $1$ (avec la probabilité $p$)."
   ]
  },
  {
   "cell_type": "code",
   "execution_count": 2,
   "metadata": {
    "pycharm": {
     "name": "#%%\n"
    }
   },
   "outputs": [],
   "source": [
    "def bernoulli(p):\n",
    "    if np.random.rand() <= p:\n",
    "        return 1\n",
    "    return 0"
   ]
  },
  {
   "cell_type": "code",
   "execution_count": 3,
   "metadata": {
    "pycharm": {
     "name": "#%%\n"
    }
   },
   "outputs": [
    {
     "name": "stdout",
     "output_type": "stream",
     "text": [
      "0.36333333333333334\n",
      "0.47\n",
      "1.0\n"
     ]
    }
   ],
   "source": [
    "# test de la méthode précédente (triviale pour Bernoulli mais utile en général)\n",
    "print(np.array([bernoulli(0.3) for i in range(300)]).mean()) # moyenne de 300 tirages pour p = 0.3 => ~0.3\n",
    "print(np.array([bernoulli(0.5) for i in range(300)]).mean()) # moyenne de 300 tirages pour p = 0.5 => ~0.5\n",
    "print(np.array([bernoulli(1) for i in range(300)]).mean())   # moyenne de 300 tirages pour p = 1   => =1"
   ]
  },
  {
   "cell_type": "markdown",
   "metadata": {
    "pycharm": {
     "name": "#%% md\n"
    }
   },
   "source": [
    "### I.2- Loi binomiale\n",
    "Écrire une fonction `binomiale: int , float -> int` qui prend en argument un entier $n$ et $p \\in [0,1]$ et qui renvoie aléatoirement un nimbre tiré selon la distribution ${\\cal B}(n,p)$."
   ]
  },
  {
   "cell_type": "code",
   "execution_count": 4,
   "metadata": {
    "pycharm": {
     "name": "#%%\n"
    }
   },
   "outputs": [],
   "source": [
    "def binomiale(n,p):\n",
    "    return sum([bernoulli(p) for i in range(n)])"
   ]
  },
  {
   "cell_type": "code",
   "execution_count": 5,
   "metadata": {
    "pycharm": {
     "name": "#%%\n"
    }
   },
   "outputs": [
    {
     "name": "stdout",
     "output_type": "stream",
     "text": [
      "3.07\n",
      "6.06\n",
      "7.9366666666666665\n"
     ]
    }
   ],
   "source": [
    "# TEST\n",
    "# espérance = np\n",
    "print(np.array([binomiale(10,0.3) for i in range(300)]).mean()) # moyenne de 300 tirages pour n=10 p = 0.3 => 3\n",
    "print(np.array([binomiale(20,0.3) for i in range(300)]).mean()) # moyenne de 300 tirages pour n=20 p = 0.3 => 6\n",
    "print(np.array([binomiale(10,0.8) for i in range(300)]).mean()) # moyenne de 300 tirages pour n=10 p = 0.8 => 8"
   ]
  },
  {
   "cell_type": "markdown",
   "metadata": {
    "pycharm": {
     "name": "#%% md\n"
    }
   },
   "source": [
    "### I.3- Histogramme de la loi binomiale\n",
    "<img src=\"tme2_Galton.jpg\" title=\"Planche de Galton\" style=\"float: right;\">\n",
    "\n",
    "Dans cette question, on considère une planche de Galton de hauteur $n$. On rappelle que des bâtons horizontaux (oranges) sont cloués à cette planche comme le montre la figure ci-contre. \n",
    "\n",
    " Des billes bleues tombent du haut de la planche et, à chaque niveau, se retrouvent à la verticale d'un des bâtons. Elles vont alors tomber soit à gauche, soit à droite du bâton, jusqu'à atteindre le bas de la planche. Ce dernier est constitué de petites boites dont les bords sont symbolisés par les lignes verticales grises. \n",
    " \n",
    "Chaque boite renferme des billes qui sont passées exactement le même nombre de fois à droite des bâtons oranges. Par exemple, la boite la plus à gauche renferme les billes qui ne sont jamais passées à droite d'un bâton, celle juste à sa droite renferme les billes passées une seule fois à droite d'un bâton et toutes les autres fois à gauche, et ainsi de suite. \n",
    "\n",
    "La répartition des billes dans les boites suit donc une loi binomiale ${\\cal B}(n,0.5)$. \n",
    "\n",
    "Écrire un script qui crée un tableau de $1000$ cases dont le contenu correspond à $1000$ instanciations de la loi binomiale ${\\cal B}(n,0.5)$. Afin de voir la répartition des billes dans la planche de Galton, tracer l'histogramme de ce tableau. Vous pourrez utiliser la fonction hist de matplotlib.pyplot: "
   ]
  },
  {
   "cell_type": "code",
   "execution_count": 6,
   "metadata": {
    "pycharm": {
     "name": "#%%\n"
    }
   },
   "outputs": [
    {
     "data": {
      "text/plain": "<Figure size 640x480 with 1 Axes>",
      "image/png": "[encoded data removed]"
     },
     "metadata": {},
     "output_type": "display_data"
    }
   ],
   "source": [
    "import matplotlib.pyplot as plt\n",
    "\n",
    "plt.hist ([0,1,2,1,2,4,1,1], 4);"
   ]
  },
  {
   "cell_type": "markdown",
   "metadata": {
    "pycharm": {
     "name": "#%% md\n"
    }
   },
   "source": [
    "Pour le nombre de bins, calculez le nombre de valeurs différentes dans votre tableau."
   ]
  },
  {
   "cell_type": "code",
   "execution_count": 7,
   "metadata": {
    "pycharm": {
     "name": "#%%\n"
    }
   },
   "outputs": [
    {
     "name": "stdout",
     "output_type": "stream",
     "text": [
      "[0. 1. 2. 3. 4.]\n",
      "[1 4 2 1]\n",
      "5\n"
     ]
    }
   ],
   "source": [
    "# votre code\n",
    "effectif, bins =  np.histogram([0,1,2,1,2,4,1,1], 4)\n",
    "print(bins)\n",
    "print(effectif)\n",
    "print(len(bins))"
   ]
  },
  {
   "cell_type": "markdown",
   "metadata": {
    "pycharm": {
     "name": "#%% md\n"
    }
   },
   "source": [
    "## II- Visualisation d'indépendances (<font color=\"red\"> obligatoire</font>)"
   ]
  },
  {
   "cell_type": "markdown",
   "metadata": {
    "pycharm": {
     "name": "#%% md\n"
    }
   },
   "source": [
    "### II.1- Loi normale centrée réduite\n",
    "<img src=\"tme2_normale.jpg\" title=\"Planche de Galton\" style=\"float: right;\">\n",
    "\n",
    "On souhaite visualiser la fonction de densité de la loi normale. Pour cela, on va créer un ensemble de $k$ points $(x_i,y_i$), pour des $x_i$ équi-espacés variant de $-2σ$ à $2σ$, les $y_i$ correspondant à la valeur de la fonction de densité de la loi normale centrée de variance $σ^2$, autrement dit ${\\cal N}(0,σ^2)$.\n",
    "\n",
    "Écrire une fonction `normale : int , float -> float np.array` qui, étant donné un paramètre entier `k` impair et un paramètre réel `sigma` renvoie l'`array numpy` des $k$ valeurs $y_i$. Afin que l'`array numpy` soit bien symmétrique, on lèvera une exception si $k$ est pair."
   ]
  },
  {
   "cell_type": "code",
   "execution_count": 8,
   "metadata": {
    "pycharm": {
     "name": "#%%\n"
    }
   },
   "outputs": [],
   "source": [
    "import math\n",
    "\n",
    "\n",
    "def normale(k, sigma):\n",
    "    y_i = np.linspace(-2 * sigma, 2 * sigma, k)\n",
    "    return [np.exp(-(x_i ** 2) / (2 * sigma ** 2)) / (sigma * math.sqrt(2 * math.pi)) for x_i in y_i]\n",
    "    \n"
   ]
  },
  {
   "cell_type": "markdown",
   "metadata": {
    "pycharm": {
     "name": "#%% md\n"
    }
   },
   "source": [
    "Vérfier la validité de votre fonction en affichant grâce à la fonction plot les points générés dans une figure. "
   ]
  },
  {
   "cell_type": "code",
   "execution_count": 9,
   "metadata": {
    "pycharm": {
     "name": "#%%\n"
    }
   },
   "outputs": [
    {
     "data": {
      "text/plain": "<Figure size 640x480 with 1 Axes>",
      "image/png": "[encoded data removed]"
     },
     "metadata": {},
     "output_type": "display_data"
    }
   ],
   "source": [
    "# Vérfier la validité de votre fonction en affichant grâce à la fonction plot les points générés dans une figure. \n",
    "from math import sqrt\n",
    "\n",
    "sigma = sqrt(1)\n",
    "k = 99\n",
    "x = np.linspace(-2 * sigma, 2 * sigma, k)\n",
    "y = normale(k, sigma)\n",
    "plt.plot(x, y)\n",
    "plt.show()"
   ]
  },
  {
   "cell_type": "markdown",
   "metadata": {
    "pycharm": {
     "name": "#%% md\n"
    }
   },
   "source": [
    "### II.2- Distribution de probabilité affine\n",
    "<img src=\"tme2_lineaire.jpg\" title=\"Distribution affine\" style=\"float: right;\">\n",
    "\n",
    "Dans cette question, on considère une généralisation de la distribution uniforme: une distribution affine, c'est-à-dire que la fonction de densité est une droite, mais pas forcément horizontale, comme le montre la figure ci-contre. \n",
    "\n",
    "Écrire une fonction `proba_affine : int , float -> float np.array` qui, comme dans la question précédente, va générer un ensemble de $k$ points $y_i, i=0,...,k−1$, représentant cette distribution (paramétrée par sa pente `slope`). On vérifiera ici aussi que l'entier $k$ est impair. Si la pente est égale à $0$, c'est-à-dire si la distribution est uniforme, chaque point $y_i$ devrait être égal à $\\frac{1}{k}$ (afin que $\\sum y_i=1$). Si la pente est différente de $0$, il suffit de choisir, $\\forall i=0,...,k−1$,\n",
    "\n",
    "$$y_i=\\frac{1}{k}+(i−\\frac{k−1}{2})×slope$$\n",
    "\n",
    "Vous pourrez aisément vérifier que, ici aussi, $\\sum y_i=1$. Afin que la distribution soit toujours positive (c'est quand même un minimum pour une distribution de probabilité), il faut que la pente slope ne soit ni trop grande ni trop petite. Le bout de code ci-dessous lèvera une exception si la pente est trop élevée et indiquera la pente maximale possible. "
   ]
  },
  {
   "cell_type": "code",
   "execution_count": 10,
   "metadata": {
    "pycharm": {
     "name": "#%%\n"
    }
   },
   "outputs": [
    {
     "data": {
      "text/plain": "<Figure size 640x480 with 1 Axes>",
      "image/png": "[encoded data removed]"
     },
     "metadata": {},
     "output_type": "display_data"
    }
   ],
   "source": [
    "def proba_affine(k, slope):\n",
    "    if k % 2 == 0:\n",
    "        raise ValueError('le nombre k doit etre impair')\n",
    "    if abs(slope) > 2. / (k * k):\n",
    "        raise ValueError('la pente est trop raide : pente max = ' +\n",
    "                         str(2. / (k * k)))\n",
    "    #votre code\n",
    "    res = []\n",
    "    for i in range(k):\n",
    "        res.append(1 / k + (i - k / 2) * slope)\n",
    "\n",
    "    return np.asarray(res)\n",
    "\n",
    "\n",
    "# TEST\n",
    "x = np.arange(0, 5, 1)\n",
    "y = proba_affine(5, 0.08)\n",
    "plt.plot(x, y)\n",
    "plt.show()"
   ]
  },
  {
   "cell_type": "markdown",
   "metadata": {
    "pycharm": {
     "name": "#%% md\n"
    }
   },
   "source": [
    "### II.3- Distribution jointe\n",
    "Écrire une fonction `Pxy : float np.array , float np.array -> float np.2D-array` qui, étant donné deux tableaux numpy de nombres réels à $1$ dimension générés par les fonctions des questions précédentes et représentant deux distributions de probabilités $P(A)$ et $P(B)$, renvoie la distribution jointe $P(A,B)$ sous forme d'un tableau numpy à $2$ dimensions de nombres réels, en supposant que $A$ et $B$ sont des variables aléatoires indépendantes. Par exemple, si:"
   ]
  },
  {
   "cell_type": "code",
   "execution_count": 11,
   "metadata": {
    "pycharm": {
     "name": "#%%\n"
    }
   },
   "outputs": [],
   "source": [
    "PA = np.array ( [0.2, 0.7, 0.1] )\n",
    "PB = np.array ( [0.4, 0.4, 0.2] )"
   ]
  },
  {
   "cell_type": "markdown",
   "metadata": {
    "pycharm": {
     "name": "#%% md\n"
    }
   },
   "source": [
    "alors `Pxy(A,B)` renverra le tableau :\n",
    "```\n",
    "np.array([[ 0.08,  0.08,  0.04],\n",
    "          [ 0.28,  0.28,  0.14],\n",
    "          [ 0.04,  0.04,  0.02]])\n",
    "```"
   ]
  },
  {
   "cell_type": "code",
   "execution_count": 12,
   "metadata": {
    "pycharm": {
     "name": "#%%\n"
    }
   },
   "outputs": [
    {
     "name": "stdout",
     "output_type": "stream",
     "text": [
      "[[0.08 0.08 0.04]\n",
      " [0.28 0.28 0.14]\n",
      " [0.04 0.04 0.02]]\n",
      "[[0.08 0.08 0.04]\n",
      " [0.28 0.28 0.14]\n",
      " [0.04 0.04 0.02]]\n"
     ]
    }
   ],
   "source": [
    "def Pxy(x,y):\n",
    "    #votre code\n",
    "    res = np.zeros((x.shape[0], y.shape[0]))\n",
    "    for i in range(x.shape[0]):\n",
    "        for j in range(y.shape[0]):\n",
    "            res[i][j] = (x[i]*y[j])\n",
    "    return np.asarray(res)\n",
    "def pxy(x,y):\n",
    "    #votre code\n",
    "    return np.outer(x,y)\n",
    "\n",
    "print(Pxy(PA, PB))\n",
    "print(pxy(PA, PB))"
   ]
  },
  {
   "cell_type": "markdown",
   "metadata": {
    "pycharm": {
     "name": "#%% md\n"
    }
   },
   "source": [
    "### II.4- Affichage de la distribution jointe\n",
    "<img src=\"tme2_jointe.jpg\" title=\"Distribution jointe\" style=\"float: right;\">\n",
    "\n",
    "Le code ci-dessous permet d'afficher en 3D une probabilité jointe générée par la fonction précédente. Exécutez-le avec une probabilité jointe résultant de la combinaison d'une loi normale et d'une distribution affine. \n",
    "\n",
    "Si la commande `%matplotlib notebook` fonctione, vous pouvez interagir avec la courbe. Si le contenu de la fenêtre est vide, redimensionnez celle-ci et le contenu devrait apparaître. Cliquez à la souris à l'intérieur de la fenêtre et bougez la souris en gardant le bouton appuyé afin de faire pivoter la courbe. Observez sous différents angles cette courbe. Refaites l'expérience avec une probaiblité jointe résultant de deux lois normales. Essayez de comprendre ce que signifie, visuellement, l'indépendance probabiliste. Vous pouvez également recommencer l'expérience avec le logarithme des lois jointes.\n"
   ]
  },
  {
   "cell_type": "code",
   "execution_count": 13,
   "metadata": {
    "pycharm": {
     "name": "#%%\n"
    }
   },
   "outputs": [],
   "source": [
    "\n",
    "%matplotlib inline  \n",
    "# essayer `%matplotib notebook` pour interagir avec la visualisation 3D\n",
    "\n",
    "def dessine ( P_jointe ):\n",
    "    fig = plt.figure()\n",
    "    ax = fig.add_subplot(111, projection='3d')\n",
    "    x = np.linspace ( -3, 3, P_jointe.shape[0] )\n",
    "    y = np.linspace ( -3, 3, P_jointe.shape[1] )\n",
    "    X, Y = np.meshgrid(x, y)\n",
    "    ax.plot_surface(X, Y, P_jointe, rstride=1, cstride=1 )\n",
    "    ax.set_xlabel('A')\n",
    "    ax.set_ylabel('B')\n",
    "    ax.set_zlabel('P(A) * P(B)')\n",
    "    plt.show ()"
   ]
  },
  {
   "cell_type": "code",
   "execution_count": 14,
   "metadata": {
    "pycharm": {
     "name": "#%%\n"
    }
   },
   "outputs": [
    {
     "data": {
      "text/plain": "<Figure size 640x480 with 1 Axes>",
      "image/png": "[encoded data removed]"
     },
     "metadata": {},
     "output_type": "display_data"
    }
   ],
   "source": [
    "dessine(np.array([[ 0.08,  0.08,  0.04],\n",
    "                  [ 0.28,  0.28,  0.14],\n",
    "                  [ 0.04,  0.04,  0.02]]))"
   ]
  },
  {
   "cell_type": "code",
   "execution_count": 15,
   "metadata": {
    "pycharm": {
     "name": "#%%\n"
    }
   },
   "outputs": [
    {
     "data": {
      "text/plain": "<Figure size 640x480 with 1 Axes>",
      "image/png": "[encoded data removed]"
     },
     "metadata": {},
     "output_type": "display_data"
    }
   ],
   "source": [
    "#votre code\n",
    "dessine(pxy(PA, PB))"
   ]
  },
  {
   "cell_type": "markdown",
   "metadata": {
    "pycharm": {
     "name": "#%% md\n"
    }
   },
   "source": [
    "## III- Indépendances conditionnelles (<font color=\"red\"> obligatoire</font>)\n",
    "\n",
    "Dans cet exercice, on considère quatre variables aléatoires booléennes $X$, $Y$, $Z$ et $T$ ainsi que leur distribution jointe $P(X,Y,Z,T)$ encodée en python de la manière suivante : "
   ]
  },
  {
   "cell_type": "code",
   "execution_count": 16,
   "metadata": {
    "pycharm": {
     "name": "#%%\n"
    }
   },
   "outputs": [],
   "source": [
    "# creation de P(X,Y,Z,T)\n",
    "P_XYZT = np.array([[[[ 0.0192,  0.1728],\n",
    "                     [ 0.0384,  0.0096]],\n",
    "\n",
    "                    [[ 0.0768,  0.0512],\n",
    "                     [ 0.016 ,  0.016 ]]],\n",
    "\n",
    "                   [[[ 0.0144,  0.1296],\n",
    "                     [ 0.0288,  0.0072]],\n",
    "\n",
    "                    [[ 0.2016,  0.1344],\n",
    "                     [ 0.042 ,  0.042 ]]]])"
   ]
  },
  {
   "cell_type": "markdown",
   "metadata": {
    "pycharm": {
     "name": "#%% md\n"
    }
   },
   "source": [
    "Ainsi, $\\forall (x,y,z,t) \\in \\{0,1\\}^4$, `P_XYZT[x][y][z][t]` correspond à $P(X=x,Y=y,Z=z,T=t)$ ou, en version abrégée, à $P(x,y,z,t)$. "
   ]
  },
  {
   "cell_type": "markdown",
   "metadata": {
    "pycharm": {
     "name": "#%% md\n"
    }
   },
   "source": [
    "### III.1- Indépendance de X et T conditionnellement à (Y,Z)\n",
    "On souhaite tester si les variables aléatoires $X$ et $T$ sont indépendantes conditionnellement à $(Y,Z)$. Il s'agit donc de vérifer que dans la loi $P$, $$P(X,T|Y,Z)=P(X|Y,Z)\\cdot P(T|Y,Z)$$\n",
    "\n",
    "\n",
    "Pour cela, tout d'abord, calculer à partir de `P_XYZT` le tableau `P_YZ` représentant la distribution $P(Y,Z)$. On rappelle que $$P(Y,Z)=\\sum_{X,T} P(X,Y,Z,T)$$\n",
    "\n",
    "Le tableau `P_YZ` est donc un tableau à deux dimensions, dont la première correspond à $Y$ et la deuxième à $Z$. Si vous ne vous êtes pas trompé(e)s, vous devez obtenir le tableau suivant : \n",
    "```\n",
    "np.array([[ 0.336,  0.084],\n",
    "          [ 0.464,  0.116]])\n",
    "```\n",
    "\n",
    "Ainsi $P(Y=0,Z=1)=$ `P_YZ[0][1]` $=0.084$"
   ]
  },
  {
   "cell_type": "code",
   "execution_count": 17,
   "metadata": {
    "pycharm": {
     "name": "#%%\n"
    }
   },
   "outputs": [
    {
     "name": "stdout",
     "output_type": "stream",
     "text": [
      "2\n",
      "[[0. 0.]\n",
      " [0. 0.]]\n"
     ]
    }
   ],
   "source": [
    "print(P_XYZT.shape[0])\n",
    "\n",
    "\n",
    "P_YZ = np.zeros((P_XYZT.shape[1], P_XYZT.shape[2]))\n",
    "print(P_YZ)\n"
   ]
  },
  {
   "cell_type": "code",
   "execution_count": 18,
   "metadata": {
    "pycharm": {
     "name": "#%%\n"
    }
   },
   "outputs": [
    {
     "name": "stdout",
     "output_type": "stream",
     "text": [
      "test :  [[0.0192 0.0384]\n",
      " [0.0768 0.016 ]]\n",
      "test :  [[0.1728 0.0096]\n",
      " [0.0512 0.016 ]]\n",
      "test :  [[0.0144 0.0288]\n",
      " [0.2016 0.042 ]]\n",
      "test :  [[0.1296 0.0072]\n",
      " [0.1344 0.042 ]]\n",
      "[[0.336 0.084]\n",
      " [0.464 0.116]]\n"
     ]
    }
   ],
   "source": [
    "#votre code\n",
    "P_YZ = np.zeros((P_XYZT.shape[1], P_XYZT.shape[2]))\n",
    "\n",
    "for i in range(len(P_XYZT)): \n",
    "    for j in range(P_XYZT.shape[3]):\n",
    "        P_YZ += P_XYZT[i,:,:,j]\n",
    "        print(\"test : \" , P_XYZT[i,:,:,j])\n",
    "        \n",
    "        \n",
    "\n",
    "P_YZ = np.asarray(P_YZ)\n",
    "print(P_YZ)\n"
   ]
  },
  {
   "cell_type": "markdown",
   "metadata": {
    "pycharm": {
     "name": "#%% md\n"
    }
   },
   "source": [
    "Ensuite, calculer le tableau `P_XTcondYZ` représentant la distribution $P(X,T|Y,Z)$. Ce tableau a donc 4 dimensions, chacune correspondant à une des variables aléatoires. De plus, les valeurs de `P_XTcondYZ` sont obtenues en utilisant la formule des probabilités conditionnelles: $$P(X,T|Y,Z)=\\frac{P(X,Y,Z,T)}{P(Y,Z)}$$\n",
    "\n",
    "Check: `P_XTcondYZ` =\n",
    "\n",
    "  `[[[[0.05714286 0.51428571]\n",
    "   [0.45714286 0.11428571]]\n",
    "  [[0.16551724 0.11034483]\n",
    "   [0.13793103 0.13793103]]`\n"
   ]
  },
  {
   "cell_type": "code",
   "execution_count": 19,
   "metadata": {
    "pycharm": {
     "name": "#%%\n"
    }
   },
   "outputs": [
    {
     "name": "stdout",
     "output_type": "stream",
     "text": [
      "[[[[0.05714286 0.51428571]\n",
      "   [0.45714286 0.11428571]]\n",
      "\n",
      "  [[0.16551724 0.11034483]\n",
      "   [0.13793103 0.13793103]]]\n",
      "\n",
      "\n",
      " [[[0.04285714 0.38571429]\n",
      "   [0.34285714 0.08571429]]\n",
      "\n",
      "  [[0.43448276 0.28965517]\n",
      "   [0.36206897 0.36206897]]]]\n"
     ]
    }
   ],
   "source": [
    "P_XTcondYZ = np.zeros((P_XYZT.shape[0], P_XYZT.shape[1], P_XYZT.shape[2], P_XYZT.shape[3]))\n",
    "for i in range(P_XYZT.shape[0]):\n",
    "    for j in range(P_XYZT.shape[1]):\n",
    "        for k in range(P_XYZT.shape[2]):\n",
    "            for l in range(P_XYZT.shape[3]):\n",
    "                P_XTcondYZ[i][j][k][l] = P_XYZT[i][j][k][l]/P_YZ[j][k]\n",
    "print(P_XTcondYZ)"
   ]
  },
  {
   "cell_type": "markdown",
   "metadata": {
    "pycharm": {
     "name": "#%% md\n"
    }
   },
   "source": [
    "Calculer à partir de `P_XTcondYZ` les tableaux à 3 dimensions `P_XcondYZ` et `P_TcondYZ` représentant respectivement les distributions $P(X|Y,Z)$ et $P(T|Y,Z)$. On rappelle que $$P(X|Y,Z)=∑_T P(X,T|Y,Z)$$\n",
    "Check:\n",
    "`P_XcondYZ=\n",
    "[[[0.57142857 0.57142857]\n",
    "  [0.27586207 0.27586207]]\n",
    " [[0.42857143 0.42857143]\n",
    "  [0.72413793 0.72413793]]]\n",
    "`"
   ]
  },
  {
   "cell_type": "code",
   "execution_count": 20,
   "metadata": {
    "pycharm": {
     "name": "#%%\n"
    }
   },
   "outputs": [
    {
     "name": "stdout",
     "output_type": "stream",
     "text": [
      "[[[0.57142857 0.57142857]\n",
      "  [0.27586207 0.27586207]]\n",
      "\n",
      " [[0.42857143 0.42857143]\n",
      "  [0.72413793 0.72413793]]]\n"
     ]
    }
   ],
   "source": [
    "P_XcondYZ = np.zeros((P_XYZT.shape[0], P_XYZT.shape[1], P_XYZT.shape[2]))\n",
    "for i in range(P_XYZT.shape[0]):\n",
    "    for j in range(P_XYZT.shape[1]):\n",
    "        for k in range(P_XYZT.shape[2]):\n",
    "            P_XcondYZ[i][j][k] = np.sum(P_XTcondYZ[i][j][k])\n",
    "print(P_XcondYZ)"
   ]
  },
  {
   "cell_type": "markdown",
   "metadata": {
    "pycharm": {
     "name": "#%% md\n"
    }
   },
   "source": [
    "Enfin, tester si $X$ et $T$ sont indépendantes conditionnellement à $(Y,Z)$: si c'est bien le cas, on doit avoir $$P(X,T|Y,Z)=P(X|Y,Z)×P(T|Y,Z)$$ "
   ]
  },
  {
   "cell_type": "code",
   "execution_count": 21,
   "metadata": {
    "pycharm": {
     "name": "#%%\n"
    }
   },
   "outputs": [
    {
     "name": "stdout",
     "output_type": "stream",
     "text": [
      "XT|YZ : \n",
      " [[[[0.05714286 0.51428571]\n",
      "   [0.45714286 0.11428571]]\n",
      "\n",
      "  [[0.16551724 0.11034483]\n",
      "   [0.13793103 0.13793103]]]\n",
      "\n",
      "\n",
      " [[[0.04285714 0.38571429]\n",
      "   [0.34285714 0.08571429]]\n",
      "\n",
      "  [[0.43448276 0.28965517]\n",
      "   [0.36206897 0.36206897]]]]\n",
      "X|YZ : \n",
      " [[[0.57142857 0.57142857]\n",
      "  [0.27586207 0.27586207]]\n",
      "\n",
      " [[0.42857143 0.42857143]\n",
      "  [0.72413793 0.72413793]]]\n",
      "T|YZ : \n",
      " [[[0.1 0.9]\n",
      "  [0.8 0.2]]\n",
      "\n",
      " [[0.6 0.4]\n",
      "  [0.5 0.5]]]\n",
      " X et T sont indépendants conditionnellement à Y et Z\n"
     ]
    }
   ],
   "source": [
    "\n",
    "#todo\n",
    "P_TcondYZ = np.zeros((P_XYZT.shape[1], P_XYZT.shape[2], P_XYZT.shape[3]))\n",
    "for i in range(P_XYZT.shape[1]):\n",
    "    for j in range(P_XYZT.shape[2]):\n",
    "        for k in range(P_XYZT.shape[3]):\n",
    "            P_TcondYZ[i][j][k] = np.sum(P_XTcondYZ[:,i,j,k])\n",
    "\n",
    "\n",
    "\n",
    "print(\"XT|YZ : \\n\",P_XTcondYZ)\n",
    "\n",
    "print(\"X|YZ : \\n\",P_XcondYZ)\n",
    "print(\"T|YZ : \\n\",P_TcondYZ)\n",
    "\n",
    "# for  i in range(P_XcondYZ.shape[0]):\n",
    "#     for j in range(P_XcondYZ.shape[1]):\n",
    "#         for k in range(P_XcondYZ.shape[2]):\n",
    "\n",
    "\n",
    "\n",
    "a = np.array ((0,1))\n",
    "coords = np.array(np.meshgrid(a,a,a,a)).T.reshape(-1,4)\n",
    "b= True\n",
    "for x,y,z,t in coords : \n",
    "    if np.around(P_XTcondYZ[x,y,z,t],4) != np.around(P_XcondYZ[x,y,z]*P_TcondYZ[y,z,t], decimals=4):\n",
    "        b = False\n",
    "        break\n",
    "if(b):\n",
    "    print(\" X et T sont indépendants conditionnellement à Y et Z\")\n",
    "else : \n",
    "    print(\" X et T ne sont pas indépendants conditionnellement à Y et Z\")\n",
    "            \n"
   ]
  },
  {
   "cell_type": "markdown",
   "metadata": {
    "pycharm": {
     "name": "#%% md\n"
    }
   },
   "source": [
    "### III.2- Indépendance de X et (Y,Z)\n",
    "\n",
    "On souhaite maintenant déterminer si $X$ et $(Y,Z)$ sont indépendantes. Pour cela, commencer par calculer à partir de `P_XYZT` le tableau `P_XYZ` représentant la distribution $P(X,Y,Z)$. \n",
    "\n",
    "Ensuite, calculer à partir de `P_XYZ` les tableaux `P_X` et `P_YZ` représentant respectivement les distributions $P(X)$ et $P(Y,Z)$. On rappelle que $$P(X)=∑_Y∑_Z P(X,Y,Z)$$\n",
    "\n",
    "Si vous ne vous êtes pas trompé(e), P_X doit être égal au tableau suivant : \n",
    "```\n",
    "np.array([ 0.4,  0.6])\n",
    "```"
   ]
  },
  {
   "cell_type": "code",
   "execution_count": 22,
   "metadata": {
    "pycharm": {
     "name": "#%%\n"
    }
   },
   "outputs": [
    {
     "name": "stdout",
     "output_type": "stream",
     "text": [
      "[[[0.192 0.048]\n",
      "  [0.128 0.032]]\n",
      "\n",
      " [[0.144 0.036]\n",
      "  [0.336 0.084]]]\n"
     ]
    }
   ],
   "source": [
    "#votre code\n",
    "P_XYZ = np.zeros((P_XYZT.shape[0], P_XYZT.shape[1], P_XYZT.shape[2]))\n",
    "for i in range(P_XYZT.shape[0]):\n",
    "    for j in range(P_XYZT.shape[1]):\n",
    "        for k in range(P_XYZT.shape[2]):\n",
    "            P_XYZ[i][j][k] = np.sum(P_XYZT[i][j][k])\n",
    "print(P_XYZ)\n",
    "\n",
    "\n"
   ]
  },
  {
   "cell_type": "code",
   "execution_count": 23,
   "metadata": {
    "pycharm": {
     "name": "#%%\n"
    }
   },
   "outputs": [
    {
     "name": "stdout",
     "output_type": "stream",
     "text": [
      "[0.4 0.6]\n"
     ]
    }
   ],
   "source": [
    "P_X = np.zeros((P_XYZT.shape[0]))\n",
    "for i in range(P_XYZT.shape[0]):\n",
    "    P_X[i] = np.sum(P_XYZ[i])\n",
    "print(P_X)"
   ]
  },
  {
   "cell_type": "code",
   "execution_count": 24,
   "metadata": {
    "pycharm": {
     "name": "#%%\n"
    }
   },
   "outputs": [
    {
     "name": "stdout",
     "output_type": "stream",
     "text": [
      "[[0.336 0.084]\n",
      " [0.464 0.116]]\n"
     ]
    }
   ],
   "source": [
    "P_YZ= np.zeros((P_XYZT.shape[1], P_XYZT.shape[2]))\n",
    "for i in range(P_XYZT.shape[1]):\n",
    "    for j in range(P_XYZT.shape[2]):\n",
    "        P_YZ[i][j] = np.sum(P_XYZ[:,i,j])\n",
    "print(P_YZ)"
   ]
  },
  {
   "cell_type": "markdown",
   "metadata": {
    "pycharm": {
     "name": "#%% md\n"
    }
   },
   "source": [
    "Enfin, si $X$ et $(Y,Z)$ sont bien indépendantes, on doit avoir $$P(X,Y,Z)=P(X)×P(Y,Z)$$\n",
    "\n",
    "Check : Non, ce n'est pas indépendant"
   ]
  },
  {
   "cell_type": "code",
   "execution_count": 25,
   "metadata": {
    "pycharm": {
     "name": "#%%\n"
    }
   },
   "outputs": [
    {
     "name": "stdout",
     "output_type": "stream",
     "text": [
      " X et (Y,Z) ne sont pas indépendants\n"
     ]
    }
   ],
   "source": [
    "#votre code\n",
    "#verifier si X et (Y,Z) sont indépendants\n",
    "\n",
    "a = np.array ((0,1))\n",
    "coords = np.array(np.meshgrid(a,a,a)).T.reshape(-1,3)\n",
    "b= True\n",
    "for x,y,z in coords :\n",
    "    if P_XYZ[x,y,z] != np.around(P_X[x]*P_YZ[y,z], decimals=4):\n",
    "        b = False\n",
    "        break\n",
    "if(b):\n",
    "    print(\" X et (Y,Z) sont indépendants\")\n",
    "else :\n",
    "    print(\" X et (Y,Z) ne sont pas indépendants\")\n",
    "\n",
    "\n"
   ]
  },
  {
   "cell_type": "code",
   "execution_count": 26,
   "metadata": {
    "pycharm": {
     "name": "#%%\n"
    }
   },
   "outputs": [
    {
     "name": "stdout",
     "output_type": "stream",
     "text": [
      "[[ 6  9 12]\n",
      " [ 9 15 21]]\n",
      "6\n"
     ]
    }
   ],
   "source": [
    "import numpy as np\n",
    "myP_XYZ = np.array(\n",
    "    [[[1,2,3],\n",
    "      [2,3,4],\n",
    "      [3,4,5]],\n",
    "      [[2,3,4],\n",
    "       [4,5,6],\n",
    "       [6,7,8]]\n",
    "    ]\n",
    ")\n",
    "myP_XY = myP_XYZ[0,0,0]+myP_XYZ[0,0,1]+myP_XYZ[0,0,2]\n",
    "print(np.sum(myP_XYZ, axis=2))\n",
    "print(myP_XY)"
   ]
  },
  {
   "cell_type": "markdown",
   "metadata": {
    "pycharm": {
     "name": "#%% md\n"
    }
   },
   "source": [
    "## IV- Indépendances conditionnelles et consommation mémoire  (<font color=\"red\"> obligatoire</font>)\n",
    "\n",
    "Le but de cet exercice est d'exploiter les probabilités conditionnelles et les indépendances conditionnelles afin de décomposer une probabilité jointe en un produit de \"petites probabilités conditionnelles\". Cela permet de stocker des probabilités jointes de grandes tailles sur des ordinateurs \"standards\". Au cours de l'exercice, vous allez donc partir d'une probabilité jointe et, progressivement, construire un programme qui identifie ces indépendances conditionnelles.\n",
    "\n",
    "Pour simplifier, dans la suite de cet exercice, nous allons considérer un ensemble $X_0,…,X_n$ de variables aléatoires binaires (elles ne peuvent prendre que 2 valeurs : 0 et 1). \n",
    "\n",
    "### Simplification du code : utilisation de pyAgrum\n",
    "\n",
    "Manipuler des probabilités et des opérations sur des probabilités complexes est difficiles avec les outils classiques. La difficulté principale est certainement le problème du mapping entre axe et variable aléatoire. `pyAgrum` propose une gestion de `Potential` qui sont des tableaux multidimensionnels dont les axes sont caractérisés par des variables et sont donc non ambigüs.\n",
    "\n",
    "Par exemple, après l'initiation du `Potential PABCD` :"
   ]
  },
  {
   "cell_type": "code",
   "execution_count": 27,
   "metadata": {
    "pycharm": {
     "name": "#%%\n"
    }
   },
   "outputs": [],
   "source": [
    "import pyAgrum as gum\n",
    "import pyAgrum.lib.notebook as gnb\n",
    "\n",
    "X,Y,Z,T=[gum.LabelizedVariable(x,x,2) for x in \"XYZT\"]\n",
    "pXYZT=gum.Potential().add(T).add(Z).add(Y).add(X)\n",
    "pXYZT[:]=[[[[ 0.0192,  0.1728],\n",
    "            [ 0.0384,  0.0096]],\n",
    "           [[ 0.0768,  0.0512],\n",
    "            [ 0.016 ,  0.016 ]]],\n",
    "          [[[ 0.0144,  0.1296],\n",
    "            [ 0.0288,  0.0072]],\n",
    "           [[ 0.2016,  0.1344],\n",
    "            [ 0.042 ,  0.042 ]]]]"
   ]
  },
  {
   "cell_type": "markdown",
   "metadata": {
    "pycharm": {
     "name": "#%% md\n"
    }
   },
   "source": [
    "On peut alors utiliser la méthode `margSumOut` qui supprime les variables par sommations: `p.margSumOut(['X','Y'])` correspond à calculer $\\sum_{X,Y} p$\n",
    "\n",
    "La réponse a question III.1 se calcule donc ainsi :"
   ]
  },
  {
   "cell_type": "code",
   "execution_count": 28,
   "metadata": {
    "pycharm": {
     "name": "#%%\n"
    }
   },
   "outputs": [
    {
     "name": "stdout",
     "output_type": "stream",
     "text": [
      "=> X et T sont indépendants conditionnellemnt à Y et Z\n"
     ]
    }
   ],
   "source": [
    "pXT_YZ=pXYZT/pXYZT.margSumOut(['X','T'])\n",
    "pX_YZ=pXT_YZ.margSumOut(['T'])\n",
    "pT_YZ=pXT_YZ.margSumOut(['X'])\n",
    "\n",
    "if pXT_YZ==pX_YZ*pT_YZ:\n",
    "    print(\"=> X et T sont indépendants conditionnellemnt à Y et Z\")\n",
    "else:\n",
    "    print(\"=> pas d'indépendance trouvée\")\n"
   ]
  },
  {
   "cell_type": "markdown",
   "metadata": {
    "pycharm": {
     "name": "#%% md\n"
    }
   },
   "source": [
    "La réponse à la question III.2 se calcule ainsi :"
   ]
  },
  {
   "cell_type": "code",
   "execution_count": 29,
   "metadata": {
    "pycharm": {
     "name": "#%%\n"
    }
   },
   "outputs": [
    {
     "name": "stdout",
     "output_type": "stream",
     "text": [
      "=> pas d'indépendance trouvée\n"
     ]
    }
   ],
   "source": [
    "pXYZ=pXYZT.margSumOut(\"T\")\n",
    "pYZ=pXYZ.margSumOut(\"X\")\n",
    "pX=pXYZ.margSumOut([\"Y\",\"Z\"])\n",
    "if pXYZ==pX*pYZ:\n",
    "    print(\"=> X et YZ sont indépendants\")\n",
    "else:\n",
    "    print(\"=> pas d'indépendance trouvée\")"
   ]
  },
  {
   "cell_type": "code",
   "execution_count": 30,
   "metadata": {
    "pycharm": {
     "name": "#%%\n"
    }
   },
   "outputs": [
    {
     "data": {
      "text/plain": "<IPython.core.display.HTML object>",
      "text/html": "<table style=\"border-style: hidden; border-collapse: collapse;\" width=\"100%\"><tr><td style=\"border-top:hidden;border-bottom:hidden;vertical-align:middle;\"><div align=\"center\" style=\"vertical-align:middle;\"><table style=\"border:1px solid black;\">\n<tr><th colspan='2'></th>\n      <th colspan='2' style='border:1px solid black;color:black;background-color:#808080;'><center>Z</center>\n      </th></tr>\n<tr><th style='border:1px solid black;color:black;background-color:#808080'><center>X</center></th><th style='border:1px solid black;color:black;background-color:#808080'><center>Y</center></th><th style='border:1px solid black;border-bottom-style: double;color:black;background-color:#BBBBBB'>\n      <center>0</center></th><th style='border:1px solid black;border-bottom-style: double;color:black;background-color:#BBBBBB'>\n      <center>1</center></th></tr>\n<tr><th style='border:1px solid black;color:black;background-color:#BBBBBB;' rowspan = '2'>\n            <center>0</center></th><th style='border:1px solid black;color:black;background-color:#BBBBBB'><center>0</center></th><td style='color:black;background-color:#e69764;text-align:right;'>0.1920</td><td style='color:black;background-color:#f88564;text-align:right;'>0.0480</td></tr>\n<tr><th style='border:1px solid black;color:black;background-color:#BBBBBB'><center>1</center></th><td style='color:black;background-color:#ee8f64;text-align:right;'>0.1280</td><td style='color:black;background-color:#fa8364;text-align:right;'>0.0320</td></tr>\n<tr><th style='border:1px solid black;color:black;background-color:#BBBBBB;' rowspan = '2'>\n            <center>1</center></th><th style='border:1px solid black;color:black;background-color:#BBBBBB'><center>0</center></th><td style='color:black;background-color:#ec9164;text-align:right;'>0.1440</td><td style='color:black;background-color:#fa8364;text-align:right;'>0.0360</td></tr>\n<tr><th style='border:1px solid black;color:black;background-color:#BBBBBB'><center>1</center></th><td style='color:black;background-color:#d3aa64;text-align:right;'>0.3360</td><td style='color:black;background-color:#f48964;text-align:right;'>0.0840</td></tr>\n</table><br><small><i>$P(X,Y,Z)$</i></small></div></td><td style=\"border-top:hidden;border-bottom:hidden;vertical-align:middle;\"><div align=\"center\" style=\"vertical-align:middle;\"><table style=\"border:1px solid black;\">\n<tr style='border:1px solid black;color:black;background-color:#808080'>\n      <th colspan='2'><center>X</center></th></tr>\n<tr><th style='border:1px solid black;border-bottom-style: double;color:black;background-color:#BBBBBB'>\n      <center>0</center></th><th style='border:1px solid black;border-bottom-style: double;color:black;background-color:#BBBBBB'>\n      <center>1</center></th></tr>\n<tr><td style='color:black;background-color:#cbb264;text-align:right;'>0.4000</td><td style='color:black;background-color:#b2cb64;text-align:right;'>0.6000</td></tr>\n</table><br><small><i>$P(X)$</i></small></div></td><td style=\"border-top:hidden;border-bottom:hidden;vertical-align:middle;\"><div align=\"center\" style=\"vertical-align:middle;\"><table style=\"border:1px solid black;\">\n<tr><th colspan='1'></th>\n      <th colspan='2' style='border:1px solid black;color:black;background-color:#808080;'><center>Z</center>\n      </th></tr>\n<tr><th style='border:1px solid black;color:black;background-color:#808080'><center>Y</center></th><th style='border:1px solid black;border-bottom-style: double;color:black;background-color:#BBBBBB'>\n      <center>0</center></th><th style='border:1px solid black;border-bottom-style: double;color:black;background-color:#BBBBBB'>\n      <center>1</center></th></tr>\n<tr><th style='border:1px solid black;color:black;background-color:#BBBBBB'><center>0</center></th><td style='color:black;background-color:#d3aa64;text-align:right;'>0.3360</td><td style='color:black;background-color:#f48964;text-align:right;'>0.0840</td></tr>\n<tr><th style='border:1px solid black;color:black;background-color:#BBBBBB'><center>1</center></th><td style='color:black;background-color:#c3ba64;text-align:right;'>0.4640</td><td style='color:black;background-color:#f08d64;text-align:right;'>0.1160</td></tr>\n</table><br><small><i>$P(Y,Z)$</i></small></div></td><td style=\"border-top:hidden;border-bottom:hidden;vertical-align:middle;\"><div align=\"center\" style=\"vertical-align:middle;\"><table style=\"border:1px solid black;\">\n<tr><th colspan='2'></th>\n      <th colspan='2' style='border:1px solid black;color:black;background-color:#808080;'><center>Z</center>\n      </th></tr>\n<tr><th style='border:1px solid black;color:black;background-color:#808080'><center>X</center></th><th style='border:1px solid black;color:black;background-color:#808080'><center>Y</center></th><th style='border:1px solid black;border-bottom-style: double;color:black;background-color:#BBBBBB'>\n      <center>0</center></th><th style='border:1px solid black;border-bottom-style: double;color:black;background-color:#BBBBBB'>\n      <center>1</center></th></tr>\n<tr><th style='border:1px solid black;color:black;background-color:#BBBBBB;' rowspan = '2'>\n            <center>0</center></th><th style='border:1px solid black;color:black;background-color:#BBBBBB'><center>0</center></th><td style='color:black;background-color:#ed9064;text-align:right;'>0.1344</td><td style='color:black;background-color:#fa8364;text-align:right;'>0.0336</td></tr>\n<tr><th style='border:1px solid black;color:black;background-color:#BBBBBB'><center>1</center></th><td style='color:black;background-color:#e79664;text-align:right;'>0.1856</td><td style='color:black;background-color:#f98464;text-align:right;'>0.0464</td></tr>\n<tr><th style='border:1px solid black;color:black;background-color:#BBBBBB;' rowspan = '2'>\n            <center>1</center></th><th style='border:1px solid black;color:black;background-color:#BBBBBB'><center>0</center></th><td style='color:black;background-color:#e59864;text-align:right;'>0.2016</td><td style='color:black;background-color:#f88564;text-align:right;'>0.0504</td></tr>\n<tr><th style='border:1px solid black;color:black;background-color:#BBBBBB'><center>1</center></th><td style='color:black;background-color:#dba264;text-align:right;'>0.2784</td><td style='color:black;background-color:#f68764;text-align:right;'>0.0696</td></tr>\n</table><br><small><i>$P(X)\\cdot P(Y,Z)$</i></small></div></td></tr></table>"
     },
     "metadata": {},
     "output_type": "display_data"
    }
   ],
   "source": [
    "gnb.sideBySide(pXYZ,pX,pYZ,pX*pYZ,\n",
    "               captions=['$P(X,Y,Z)$','$P(X)$','$P(Y,Z)$','$P(X)\\cdot P(Y,Z)$'])"
   ]
  },
  {
   "cell_type": "markdown",
   "metadata": {
    "pycharm": {
     "name": "#%% md\n"
    }
   },
   "source": [
    "`asia.txt` contient la description d'une probabilité jointe sur un ensemble de $8$ variables aléatoires binaires (256 paramètres). Le fichier est produit à partir du site web suivant `http://www.bnlearn.com/bnrepository/`.\n",
    "\n",
    "Le code suivant permet de lire ce fichier et d'en récupérer la probabilité jointe (sous forme d'une `gum.Potential`) qu'il contient : "
   ]
  },
  {
   "cell_type": "code",
   "execution_count": 31,
   "metadata": {
    "pycharm": {
     "name": "#%%\n"
    }
   },
   "outputs": [
    {
     "name": "stdout",
     "output_type": "stream",
     "text": [
      "Les variables : ['visit_to_Asia?', 'tuberculosis?', 'smoking?', 'lung_cancer?', 'tuberculosis_or_lung_cancer?', 'bronchitis?', 'positive_Xray?', 'dyspnoea?']\n"
     ]
    }
   ],
   "source": [
    "def read_file ( filename ):\n",
    "    \"\"\"\n",
    "    Renvoie les variables aléatoires et la probabilité contenues dans le\n",
    "    fichier dont le nom est passé en argument.\n",
    "    \"\"\"\n",
    "    Pres = gum.Potential ()\n",
    "    vars=[]\n",
    "\n",
    "    with open ( filename, 'r' ) as fic:\n",
    "        # on rajoute les variables dans le potentiel\n",
    "        nb_vars = int ( fic.readline () )\n",
    "        for i in range ( nb_vars ):\n",
    "            name, domsize = fic.readline ().split ()\n",
    "            vars.append(name)\n",
    "            variable = gum.LabelizedVariable(name,name,int (domsize))\n",
    "            Pres.add(variable)\n",
    "\n",
    "        # on rajoute les valeurs de proba dans le potentiel\n",
    "        cpt = []\n",
    "        for line in fic:\n",
    "            cpt.append ( float(line) )\n",
    "        Pres.fillWith( cpt )\n",
    "    return vars,Pres\n",
    "\n",
    "vars,Pjointe=read_file('asia.txt')\n",
    "# afficher Pjointe est un peu délicat (retire le commentaire de la ligne suivante)\n",
    "# Pjointe\n",
    "\n",
    "print('Les variables : '+str(vars))\n"
   ]
  },
  {
   "cell_type": "code",
   "execution_count": 32,
   "metadata": {
    "pycharm": {
     "name": "#%%\n"
    }
   },
   "outputs": [
    {
     "data": {
      "text/plain": "(pyAgrum.Potential<double>@0x600000a2a560) \n      ||  tuberculosis?    |\nlung_c||0        |1        |\n------||---------|---------|\n0     || 0.0006  | 0.0544  |\n1     || 0.0098  | 0.9352  |",
      "text/html": "<table style=\"border:1px solid black;\">\n<tr><th colspan='1'></th>\n      <th colspan='2' style='border:1px solid black;color:black;background-color:#808080;'><center>tuberculosis?</center>\n      </th></tr>\n<tr><th style='border:1px solid black;color:black;background-color:#808080'><center>lung_cancer?</center></th><th style='border:1px solid black;border-bottom-style: double;color:black;background-color:#BBBBBB'>\n      <center>0</center></th><th style='border:1px solid black;border-bottom-style: double;color:black;background-color:#BBBBBB'>\n      <center>1</center></th></tr>\n<tr><th style='border:1px solid black;color:black;background-color:#BBBBBB'><center>0</center></th><td style='color:black;background-color:#fe7f64;text-align:right;'>0.0006</td><td style='color:black;background-color:#f88564;text-align:right;'>0.0544</td></tr>\n<tr><th style='border:1px solid black;color:black;background-color:#BBBBBB'><center>1</center></th><td style='color:black;background-color:#fd8064;text-align:right;'>0.0098</td><td style='color:black;background-color:#87f664;text-align:right;'>0.9352</td></tr>\n</table>"
     },
     "execution_count": 32,
     "metadata": {},
     "output_type": "execute_result"
    }
   ],
   "source": [
    "# Noter qu'il existe une fonction margSumIn qui, à l'inverse de MargSumOut, élimine \n",
    "# toutes les variables qui ne sont pas dans les arguments\n",
    "Pjointe.margSumIn(['tuberculosis?','lung_cancer?'])\n"
   ]
  },
  {
   "cell_type": "code",
   "execution_count": 33,
   "metadata": {
    "pycharm": {
     "name": "#%%\n"
    }
   },
   "outputs": [
    {
     "name": "stdout",
     "output_type": "stream",
     "text": [
      "\n",
      "                                                ||  visit_to_Asia?   |\n",
      "tuberc|smokin|lung_c|tuberc|bronch|positi|dyspno||0        |1        |\n",
      "------|------|------|------|------|------|------||---------|---------|\n",
      "0     |0     |0     |0     |0     |0     |0     || 0.0000  | 0.0003  |\n",
      "1     |0     |0     |0     |0     |0     |0     || 0.0002  | 0.0257  |\n",
      "0     |1     |0     |0     |0     |0     |0     || 0.0000  | 0.0000  |\n",
      "1     |1     |0     |0     |0     |0     |0     || 0.0000  | 0.0013  |\n",
      "0     |0     |1     |0     |0     |0     |0     || 0.0001  | 0.0023  |\n",
      "1     |0     |1     |0     |0     |0     |0     || 0.0000  | 0.0023  |\n",
      "[...116 more line(s) ...]\n",
      "0     |1     |0     |1     |1     |1     |1     || 0.0000  | 0.0000  |\n",
      "1     |1     |0     |1     |1     |1     |1     || 0.0000  | 0.0000  |\n",
      "0     |0     |1     |1     |1     |1     |1     || 0.0000  | 0.0000  |\n",
      "1     |0     |1     |1     |1     |1     |1     || 0.0014  | 0.1493  |\n",
      "0     |1     |1     |1     |1     |1     |1     || 0.0000  | 0.0000  |\n",
      "1     |1     |1     |1     |1     |1     |1     || 0.0028  | 0.2875  |\n",
      "\n"
     ]
    }
   ],
   "source": [
    "print(Pjointe)\n"
   ]
  },
  {
   "cell_type": "markdown",
   "metadata": {
    "pycharm": {
     "name": "#%% md\n"
    }
   },
   "source": [
    "### IV.1- test d'indépendance conditionnelle\n",
    "\n",
    "En utilisant la méthode `margSumIn` (voir juste au dessus), écrire une fonction `conditional_indep: Potential,str,str,list[str]->bool` qui rend vrai si dans le `Potential`, on peut lire l'indépendance conditionnelle.\n",
    "\n",
    "Par exemple, l'appel\n",
    "\n",
    "`conditional_indep(Pjointe,'bronchitis?', 'positive_Xray?',['tuberculosis?','lung_cancer?'])` \n",
    "\n",
    "vérifie si bronchitis est indépendant de `posititve_Xray` conditionnellement à `tuberculosis?` et `lung_cancer?`\n",
    "\n",
    "D'un point de vue général, on vérifie que $X$ et $Y$ sont indépendants conditionnellement à $Z_1,\\cdots,Z_d$ par l'égalité :\n",
    "$$P(X,Y|Z_1,\\cdots,Z_d)=P(X|Z_1,\\cdot,Z_d)\\cdot P(Y|Z_1,\\cdots,Z_d)$$\n",
    "\n",
    "Ces trois probabilités sont calculables à partir de la loi jointe de $P(X,Y,Z_1,\\cdots,Z_d)$.\n",
    "\n",
    "<em>Remarque</em> Vérifier l'égalité `P==Q` de 2 `Potential` peut être problématique si les 2 sont des résultats de calcul : il peut exister une petite variation. Un meilleur test est de vérifier `(P-Q).abs().max()<epsilon` avec `epsilon` assez petit."
   ]
  },
  {
   "cell_type": "code",
   "execution_count": 34,
   "metadata": {
    "pycharm": {
     "name": "#%%\n"
    }
   },
   "outputs": [
    {
     "name": "stdout",
     "output_type": "stream",
     "text": [
      "=> X et T sont indépendants conditionnellemnt à Y et Z\n"
     ]
    }
   ],
   "source": [
    "pXT_YZ=pXYZT/pXYZT.margSumOut(['X','T'])\n",
    "pX_YZ=pXT_YZ.margSumOut(['T'])\n",
    "pT_YZ=pXT_YZ.margSumOut(['X'])\n",
    "\n",
    "if pXT_YZ==pX_YZ*pT_YZ:\n",
    "    print(\"=> X et T sont indépendants conditionnellemnt à Y et Z\")\n",
    "else:\n",
    "    print(\"=> pas d'indépendance trouvée\")"
   ]
  },
  {
   "cell_type": "code",
   "execution_count": 35,
   "metadata": {
    "pycharm": {
     "name": "#%%\n"
    }
   },
   "outputs": [],
   "source": [
    "#On peut alors utiliser la méthode `margSumOut` qui supprime les variables par sommations: \n",
    "# `p.margSumOut(['X','Y'])` correspond à calculer $\\sum_{X,Y} p \n",
    "def conditional_indep(P,X,Y,Zs):\n",
    "    epsilon= 1e-12\n",
    "    M = P.margSumIn([X,Y]+Zs)\n",
    "    pXY_Zs= M/M.margSumOut([X,Y])\n",
    "    pX_Zs= pXY_Zs.margSumOut(X)\n",
    "    pY_Zs= pXY_Zs.margSumOut(Y)\n",
    "    return (pXY_Zs-pX_Zs*pY_Zs).abs().max()<epsilon"
   ]
  },
  {
   "cell_type": "code",
   "execution_count": 36,
   "metadata": {
    "pycharm": {
     "name": "#%%\n"
    }
   },
   "outputs": [
    {
     "data": {
      "text/plain": "True"
     },
     "execution_count": 36,
     "metadata": {},
     "output_type": "execute_result"
    }
   ],
   "source": [
    "conditional_indep(Pjointe,\n",
    "                  'bronchitis?', \n",
    "                  'positive_Xray?',\n",
    "                  ['tuberculosis?','lung_cancer?'])\n",
    "# Test : doit renvoyer True"
   ]
  },
  {
   "cell_type": "code",
   "execution_count": 37,
   "metadata": {
    "pycharm": {
     "name": "#%%\n"
    }
   },
   "outputs": [
    {
     "data": {
      "text/plain": "True"
     },
     "execution_count": 37,
     "metadata": {},
     "output_type": "execute_result"
    }
   ],
   "source": [
    "conditional_indep(Pjointe,\n",
    "                  'bronchitis?', \n",
    "                  'visit_to_Asia?',\n",
    "                  [])\n",
    "# Test : doit renvoyer True"
   ]
  },
  {
   "cell_type": "markdown",
   "metadata": {
    "pycharm": {
     "name": "#%% md\n"
    }
   },
   "source": [
    "### IV.2- Factorisation compacte de loi jointe\n",
    "\n",
    "On sait que si un ensemble de variables aléatoires ${\\cal S} = \\{X_{i_0},\\ldots,X_{i_{n-1}}\\}$ peut être partitionné en deux sous-ensembles $\\cal K$ et $\\cal L$ (c'est-à-dire tels que ${\\cal K} \\cap {\\cal L} = \\emptyset$ et ${\\cal K} \\cup {\\cal L} = \\{X_{i_0},\\ldots,X_{i_{n-1}}\\}$) tels qu'une variable $X_{i_n}$ est indépendante de ${\\cal L}$ conditionnellement à ${\\cal K}$, alors:\n",
    "\n",
    "$$P(X_{i_n}|X_{i_0},\\ldots,X_{i_{n-1}}) = P(X_{i_n} | {\\cal K},{\\cal L}) = P(X_{i_n} | {\\cal K})$$\n",
    "\n",
    "C'est ce que nous avons vu au cours n°2 (cf. définition des probabilités conditionnelles). Cette formule est intéressante car elle permet de réduire la taille mémoire consommée pour stocker $P(X_{i_n}|X_{i_0},\\ldots,X_{i_{n-1}})$: il suffit en effet de stocker uniquement $P(X_{i_n} | {\\cal K})$ pour obtenir la même information."
   ]
  },
  {
   "cell_type": "markdown",
   "metadata": {
    "pycharm": {
     "name": "#%% md\n"
    }
   },
   "source": [
    "Écrire une fonction `compact_conditional_proba: Potential,str-> Potential` qui, étant donné une probabilité jointe $P(X_{i_0},\\ldots,X_{i_n})$, une variable aléatoire $X_{i_n}$, retourne cette probabilité conditionnelle $P(X_{i_n} | {\\cal K})$. Pour cela, nous vous proposons l'algorithme itératif suivant:\n",
    "\n",
    "```\n",
    "K=S\n",
    "Pour tout X in K:\n",
    "  Si X indépendante de Xin conditionnellement à K\\{X) alors\n",
    "    Supprimer X de K\n",
    "retourner P(Xin|K)$\n",
    "```\n",
    "\n",
    "Trois petites aides :\n",
    "\n",
    "1- La fonction precédente `conditional_indep` devrait vous servir...\n",
    "\n",
    "2- Obtenir la liste des noms des variables dans un `Potential` se fait par l'attribut  \n",
    "```\n",
    "P.var_names\n",
    "```\n",
    "\n",
    "3- Afin que l'affichage soit plus facile à comprendre, il peut être judicieux de placer la variable $X_{i_n}$ en premier dans la liste des variables du Potential, ce que l'on peut faire avec le code suivant : \n",
    "```\n",
    "proba = proba.putFirst(Xin)\n",
    "```\n",
    "\n"
   ]
  },
  {
   "cell_type": "code",
   "execution_count": 38,
   "metadata": {
    "pycharm": {
     "name": "#%%\n"
    }
   },
   "outputs": [],
   "source": [
    "\n",
    "def compact_conditional_proba(P,X):\n",
    "    #votre code\n",
    "    K = P.var_names.copy()\n",
    "    K.remove(X)\n",
    "    \n",
    "    for x in K : \n",
    "        Zs = K.copy()\n",
    "        Zs.remove(x)\n",
    "        if conditional_indep( P ,X ,x ,Zs):\n",
    "            K.remove(x)\n",
    "    P = P.margSumIn([X]+K)\n",
    "    return ( P / P.margSumOut(X)).putFirst(X)\n",
    "    \n"
   ]
  },
  {
   "cell_type": "markdown",
   "metadata": {
    "pycharm": {
     "name": "#%% md\n"
    }
   },
   "source": [
    "Le compactage de la loi jointe par rapport à `visit_to_Asia?` doit donner:\n",
    "<img src=\"compact_asia.png\" title=\"Distribution compacte\">\n",
    "On voit bien que la cible ne dépend plus de toutes les autres variables"
   ]
  },
  {
   "cell_type": "code",
   "execution_count": 39,
   "metadata": {
    "pycharm": {
     "name": "#%%\n"
    }
   },
   "outputs": [
    {
     "name": "stderr",
     "output_type": "stream",
     "text": [
      "/opt/homebrew/Caskroom/miniforge/base/envs/MAPSI/lib/python3.10/site-packages/pyAgrum/pyAgrum.py:8538: UserWarning: \n",
      "** pyAgrum.Potential.var_names is obsolete in pyAgrum>0.22.9. Please use pyAgrum.Potential.names.\n",
      "\n",
      "  warnings.warn(\"\\n** pyAgrum.Potential.var_names is obsolete in pyAgrum>0.22.9. Please use pyAgrum.Potential.names.\\n\")\n"
     ]
    },
    {
     "data": {
      "text/plain": "(pyAgrum.Potential<double>@0x600000a19fc0) \n                           ||  visit_to_Asia?   |\ntuberc|smokin|tuberc|positi||0        |1        |\n------|------|------|------||---------|---------|\n0     |0     |0     |0     || 0.0481  | 0.9519  |\n1     |0     |0     |0     || 0.0096  | 0.9904  |\n0     |1     |0     |0     || 0.0481  | 0.9519  |\n1     |1     |0     |0     || 0.0096  | 0.9904  |\n0     |0     |1     |0     || 0.0481  | 0.9519  |\n1     |0     |1     |0     || 0.0096  | 0.9904  |\n[...4 more line(s) ...]\n0     |1     |0     |1     || 0.0481  | 0.9519  |\n1     |1     |0     |1     || 0.0096  | 0.9904  |\n0     |0     |1     |1     || 0.0481  | 0.9519  |\n1     |0     |1     |1     || 0.0096  | 0.9904  |\n0     |1     |1     |1     || 0.0481  | 0.9519  |\n1     |1     |1     |1     || 0.0096  | 0.9904  |",
      "text/html": "<table style=\"border:1px solid black;\">\n<tr><th colspan='4'></th>\n      <th colspan='2' style='border:1px solid black;color:black;background-color:#808080;'><center>visit_to_Asia?</center>\n      </th></tr>\n<tr><th style='border:1px solid black;color:black;background-color:#808080'><center>positive_Xray?</center></th><th style='border:1px solid black;color:black;background-color:#808080'><center>tuberculosis_or_lung_cancer?</center></th><th style='border:1px solid black;color:black;background-color:#808080'><center>smoking?</center></th><th style='border:1px solid black;color:black;background-color:#808080'><center>tuberculosis?</center></th><th style='border:1px solid black;border-bottom-style: double;color:black;background-color:#BBBBBB'>\n      <center>0</center></th><th style='border:1px solid black;border-bottom-style: double;color:black;background-color:#BBBBBB'>\n      <center>1</center></th></tr>\n<tr><th style='border:1px solid black;color:black;background-color:#BBBBBB;' rowspan = '8'>\n            <center>0</center></th><th style='border:1px solid black;color:black;background-color:#BBBBBB;' rowspan = '4'>\n            <center>0</center></th><th style='border:1px solid black;color:black;background-color:#BBBBBB;' rowspan = '2'>\n            <center>0</center></th><th style='border:1px solid black;color:black;background-color:#BBBBBB'><center>0</center></th><td style='color:black;background-color:#f88564;text-align:right;'>0.0481</td><td style='color:black;background-color:#85f864;text-align:right;'>0.9519</td></tr>\n<tr><th style='border:1px solid black;color:black;background-color:#BBBBBB'><center>1</center></th><td style='color:black;background-color:#fd8064;text-align:right;'>0.0096</td><td style='color:black;background-color:#80fd64;text-align:right;'>0.9904</td></tr>\n<tr><th style='border:1px solid black;color:black;background-color:#BBBBBB;' rowspan = '2'>\n            <center>1</center></th><th style='border:1px solid black;color:black;background-color:#BBBBBB'><center>0</center></th><td style='color:black;background-color:#f88564;text-align:right;'>0.0481</td><td style='color:black;background-color:#85f864;text-align:right;'>0.9519</td></tr>\n<tr><th style='border:1px solid black;color:black;background-color:#BBBBBB'><center>1</center></th><td style='color:black;background-color:#fd8064;text-align:right;'>0.0096</td><td style='color:black;background-color:#80fd64;text-align:right;'>0.9904</td></tr>\n<tr><th style='border:1px solid black;color:black;background-color:#BBBBBB;' rowspan = '4'>\n            <center>1</center></th><th style='border:1px solid black;color:black;background-color:#BBBBBB;' rowspan = '2'>\n            <center>0</center></th><th style='border:1px solid black;color:black;background-color:#BBBBBB'><center>0</center></th><td style='color:black;background-color:#f88564;text-align:right;'>0.0481</td><td style='color:black;background-color:#85f864;text-align:right;'>0.9519</td></tr>\n<tr><th style='border:1px solid black;color:black;background-color:#BBBBBB'><center>1</center></th><td style='color:black;background-color:#fd8064;text-align:right;'>0.0096</td><td style='color:black;background-color:#80fd64;text-align:right;'>0.9904</td></tr>\n<tr><th style='border:1px solid black;color:black;background-color:#BBBBBB;' rowspan = '2'>\n            <center>1</center></th><th style='border:1px solid black;color:black;background-color:#BBBBBB'><center>0</center></th><td style='color:black;background-color:#f88564;text-align:right;'>0.0481</td><td style='color:black;background-color:#85f864;text-align:right;'>0.9519</td></tr>\n<tr><th style='border:1px solid black;color:black;background-color:#BBBBBB'><center>1</center></th><td style='color:black;background-color:#fd8064;text-align:right;'>0.0096</td><td style='color:black;background-color:#80fd64;text-align:right;'>0.9904</td></tr>\n<tr><th style='border:1px solid black;color:black;background-color:#BBBBBB;' rowspan = '8'>\n            <center>1</center></th><th style='border:1px solid black;color:black;background-color:#BBBBBB;' rowspan = '4'>\n            <center>0</center></th><th style='border:1px solid black;color:black;background-color:#BBBBBB;' rowspan = '2'>\n            <center>0</center></th><th style='border:1px solid black;color:black;background-color:#BBBBBB'><center>0</center></th><td style='color:black;background-color:#f88564;text-align:right;'>0.0481</td><td style='color:black;background-color:#85f864;text-align:right;'>0.9519</td></tr>\n<tr><th style='border:1px solid black;color:black;background-color:#BBBBBB'><center>1</center></th><td style='color:black;background-color:#fd8064;text-align:right;'>0.0096</td><td style='color:black;background-color:#80fd64;text-align:right;'>0.9904</td></tr>\n<tr><th style='border:1px solid black;color:black;background-color:#BBBBBB;' rowspan = '2'>\n            <center>1</center></th><th style='border:1px solid black;color:black;background-color:#BBBBBB'><center>0</center></th><td style='color:black;background-color:#f88564;text-align:right;'>0.0481</td><td style='color:black;background-color:#85f864;text-align:right;'>0.9519</td></tr>\n<tr><th style='border:1px solid black;color:black;background-color:#BBBBBB'><center>1</center></th><td style='color:black;background-color:#fd8064;text-align:right;'>0.0096</td><td style='color:black;background-color:#80fd64;text-align:right;'>0.9904</td></tr>\n<tr><th style='border:1px solid black;color:black;background-color:#BBBBBB;' rowspan = '4'>\n            <center>1</center></th><th style='border:1px solid black;color:black;background-color:#BBBBBB;' rowspan = '2'>\n            <center>0</center></th><th style='border:1px solid black;color:black;background-color:#BBBBBB'><center>0</center></th><td style='color:black;background-color:#f88564;text-align:right;'>0.0481</td><td style='color:black;background-color:#85f864;text-align:right;'>0.9519</td></tr>\n<tr><th style='border:1px solid black;color:black;background-color:#BBBBBB'><center>1</center></th><td style='color:black;background-color:#fd8064;text-align:right;'>0.0096</td><td style='color:black;background-color:#80fd64;text-align:right;'>0.9904</td></tr>\n<tr><th style='border:1px solid black;color:black;background-color:#BBBBBB;' rowspan = '2'>\n            <center>1</center></th><th style='border:1px solid black;color:black;background-color:#BBBBBB'><center>0</center></th><td style='color:black;background-color:#f88564;text-align:right;'>0.0481</td><td style='color:black;background-color:#85f864;text-align:right;'>0.9519</td></tr>\n<tr><th style='border:1px solid black;color:black;background-color:#BBBBBB'><center>1</center></th><td style='color:black;background-color:#fd8064;text-align:right;'>0.0096</td><td style='color:black;background-color:#80fd64;text-align:right;'>0.9904</td></tr>\n</table>"
     },
     "execution_count": 39,
     "metadata": {},
     "output_type": "execute_result"
    }
   ],
   "source": [
    "compact_conditional_proba(Pjointe,\"visit_to_Asia?\")"
   ]
  },
  {
   "cell_type": "code",
   "execution_count": 40,
   "metadata": {
    "pycharm": {
     "name": "#%%\n"
    }
   },
   "outputs": [
    {
     "data": {
      "text/plain": "(pyAgrum.Potential<double>@0x600000a3e720) \n                           ||  dyspnoea?        |\nvisit_|smokin|tuberc|bronch||0        |1        |\n------|------|------|------||---------|---------|\n0     |0     |0     |0     || 0.9000  | 0.1000  |\n1     |0     |0     |0     || 0.9000  | 0.1000  |\n0     |1     |0     |0     || 0.9000  | 0.1000  |\n1     |1     |0     |0     || 0.9000  | 0.1000  |\n0     |0     |1     |0     || 0.7000  | 0.3000  |\n1     |0     |1     |0     || 0.7000  | 0.3000  |\n[...4 more line(s) ...]\n0     |1     |0     |1     || 0.8000  | 0.2000  |\n1     |1     |0     |1     || 0.8000  | 0.2000  |\n0     |0     |1     |1     || 0.1000  | 0.9000  |\n1     |0     |1     |1     || 0.1000  | 0.9000  |\n0     |1     |1     |1     || 0.1000  | 0.9000  |\n1     |1     |1     |1     || 0.1000  | 0.9000  |",
      "text/html": "<table style=\"border:1px solid black;\">\n<tr><th colspan='4'></th>\n      <th colspan='2' style='border:1px solid black;color:black;background-color:#808080;'><center>dyspnoea?</center>\n      </th></tr>\n<tr><th style='border:1px solid black;color:black;background-color:#808080'><center>bronchitis?</center></th><th style='border:1px solid black;color:black;background-color:#808080'><center>tuberculosis_or_lung_cancer?</center></th><th style='border:1px solid black;color:black;background-color:#808080'><center>smoking?</center></th><th style='border:1px solid black;color:black;background-color:#808080'><center>visit_to_Asia?</center></th><th style='border:1px solid black;border-bottom-style: double;color:black;background-color:#BBBBBB'>\n      <center>0</center></th><th style='border:1px solid black;border-bottom-style: double;color:black;background-color:#BBBBBB'>\n      <center>1</center></th></tr>\n<tr><th style='border:1px solid black;color:black;background-color:#BBBBBB;' rowspan = '8'>\n            <center>0</center></th><th style='border:1px solid black;color:black;background-color:#BBBBBB;' rowspan = '4'>\n            <center>0</center></th><th style='border:1px solid black;color:black;background-color:#BBBBBB;' rowspan = '2'>\n            <center>0</center></th><th style='border:1px solid black;color:black;background-color:#BBBBBB'><center>0</center></th><td style='color:black;background-color:#8bf264;text-align:right;'>0.9000</td><td style='color:black;background-color:#f28b64;text-align:right;'>0.1000</td></tr>\n<tr><th style='border:1px solid black;color:black;background-color:#BBBBBB'><center>1</center></th><td style='color:black;background-color:#8bf264;text-align:right;'>0.9000</td><td style='color:black;background-color:#f28b64;text-align:right;'>0.1000</td></tr>\n<tr><th style='border:1px solid black;color:black;background-color:#BBBBBB;' rowspan = '2'>\n            <center>1</center></th><th style='border:1px solid black;color:black;background-color:#BBBBBB'><center>0</center></th><td style='color:black;background-color:#8bf264;text-align:right;'>0.9000</td><td style='color:black;background-color:#f28b64;text-align:right;'>0.1000</td></tr>\n<tr><th style='border:1px solid black;color:black;background-color:#BBBBBB'><center>1</center></th><td style='color:black;background-color:#8bf264;text-align:right;'>0.9000</td><td style='color:black;background-color:#f28b64;text-align:right;'>0.1000</td></tr>\n<tr><th style='border:1px solid black;color:black;background-color:#BBBBBB;' rowspan = '4'>\n            <center>1</center></th><th style='border:1px solid black;color:black;background-color:#BBBBBB;' rowspan = '2'>\n            <center>0</center></th><th style='border:1px solid black;color:black;background-color:#BBBBBB'><center>0</center></th><td style='color:black;background-color:#a5d864;text-align:right;'>0.7000</td><td style='color:black;background-color:#d8a564;text-align:right;'>0.3000</td></tr>\n<tr><th style='border:1px solid black;color:black;background-color:#BBBBBB'><center>1</center></th><td style='color:black;background-color:#a5d864;text-align:right;'>0.7000</td><td style='color:black;background-color:#d8a564;text-align:right;'>0.3000</td></tr>\n<tr><th style='border:1px solid black;color:black;background-color:#BBBBBB;' rowspan = '2'>\n            <center>1</center></th><th style='border:1px solid black;color:black;background-color:#BBBBBB'><center>0</center></th><td style='color:black;background-color:#a5d864;text-align:right;'>0.7000</td><td style='color:black;background-color:#d8a564;text-align:right;'>0.3000</td></tr>\n<tr><th style='border:1px solid black;color:black;background-color:#BBBBBB'><center>1</center></th><td style='color:black;background-color:#a5d864;text-align:right;'>0.7000</td><td style='color:black;background-color:#d8a564;text-align:right;'>0.3000</td></tr>\n<tr><th style='border:1px solid black;color:black;background-color:#BBBBBB;' rowspan = '8'>\n            <center>1</center></th><th style='border:1px solid black;color:black;background-color:#BBBBBB;' rowspan = '4'>\n            <center>0</center></th><th style='border:1px solid black;color:black;background-color:#BBBBBB;' rowspan = '2'>\n            <center>0</center></th><th style='border:1px solid black;color:black;background-color:#BBBBBB'><center>0</center></th><td style='color:black;background-color:#98e564;text-align:right;'>0.8000</td><td style='color:black;background-color:#e59864;text-align:right;'>0.2000</td></tr>\n<tr><th style='border:1px solid black;color:black;background-color:#BBBBBB'><center>1</center></th><td style='color:black;background-color:#98e564;text-align:right;'>0.8000</td><td style='color:black;background-color:#e59864;text-align:right;'>0.2000</td></tr>\n<tr><th style='border:1px solid black;color:black;background-color:#BBBBBB;' rowspan = '2'>\n            <center>1</center></th><th style='border:1px solid black;color:black;background-color:#BBBBBB'><center>0</center></th><td style='color:black;background-color:#98e564;text-align:right;'>0.8000</td><td style='color:black;background-color:#e59864;text-align:right;'>0.2000</td></tr>\n<tr><th style='border:1px solid black;color:black;background-color:#BBBBBB'><center>1</center></th><td style='color:black;background-color:#98e564;text-align:right;'>0.8000</td><td style='color:black;background-color:#e59864;text-align:right;'>0.2000</td></tr>\n<tr><th style='border:1px solid black;color:black;background-color:#BBBBBB;' rowspan = '4'>\n            <center>1</center></th><th style='border:1px solid black;color:black;background-color:#BBBBBB;' rowspan = '2'>\n            <center>0</center></th><th style='border:1px solid black;color:black;background-color:#BBBBBB'><center>0</center></th><td style='color:black;background-color:#f28b64;text-align:right;'>0.1000</td><td style='color:black;background-color:#8bf264;text-align:right;'>0.9000</td></tr>\n<tr><th style='border:1px solid black;color:black;background-color:#BBBBBB'><center>1</center></th><td style='color:black;background-color:#f28b64;text-align:right;'>0.1000</td><td style='color:black;background-color:#8bf264;text-align:right;'>0.9000</td></tr>\n<tr><th style='border:1px solid black;color:black;background-color:#BBBBBB;' rowspan = '2'>\n            <center>1</center></th><th style='border:1px solid black;color:black;background-color:#BBBBBB'><center>0</center></th><td style='color:black;background-color:#f28b64;text-align:right;'>0.1000</td><td style='color:black;background-color:#8bf264;text-align:right;'>0.9000</td></tr>\n<tr><th style='border:1px solid black;color:black;background-color:#BBBBBB'><center>1</center></th><td style='color:black;background-color:#f28b64;text-align:right;'>0.1000</td><td style='color:black;background-color:#8bf264;text-align:right;'>0.9000</td></tr>\n</table>"
     },
     "execution_count": 40,
     "metadata": {},
     "output_type": "execute_result"
    }
   ],
   "source": [
    "compact_conditional_proba(Pjointe,\"dyspnoea?\")"
   ]
  },
  {
   "cell_type": "markdown",
   "metadata": {
    "pycharm": {
     "name": "#%% md\n"
    }
   },
   "source": [
    "### IV.3- Création d'un réseau bayésien\n",
    "\n",
    "Un réseau bayésien est simplement la décomposition d'une distribution de probabilité jointe en un produit de probabilités conditionnelles: vous avez vu en cours que $P(A,B) = P(A|B)P(B)$, et ce quel que soient les ensembles de variables aléatoires disjoints $A$ et $B$. En posant $A = X_n$ et $B = \\{X_0,\\ldots,X_{n-1}\\}$, on obtient donc:\n",
    "\n",
    "$$P(X_0,\\ldots,X_n) = P(X_n | X_0,\\ldots,X_{n-1}) P(X_0,\\ldots,X_{n-1})$$\n",
    "\n",
    "On peut réitérer cette opération pour le terme de droite en posant $A = X_{n-1}$ et $B=\\{X_0,\\ldots,X_{n-2}\\}$, et ainsi de suite. Donc, par récurrence, on a:\n",
    "\n",
    "$$P(X_0,\\ldots,X_n) = P(X_0) \\times \\prod_{i=1}^n P(X_i | X_0,\\ldots,X_{i-1} )$$\n",
    "\n",
    "Si on applique à chaque terme $P(X_i | X_0,\\ldots,X_{i-1} )$ la fonction `compact_conditional_proba`, on obtient une décomposition:\n",
    "\n",
    "$$P(X_0,\\ldots,X_n) = P(X_0) \\times \\prod_{i=1}^n P(X_i | {\\cal K_i})$$\n",
    "\n",
    "avec $K_i \\subseteq \\{X_0,\\ldots,X_{i-1}\\}$}. Cette décomposition est dite ''compacte'' car son stockage nécessite en pratique beaucoup moins de mémoire que celui de la distribution jointe. C'est ce que l'on appelle un réseau bayésien.\n",
    "\n",
    "Écrire une fonction `create_bayesian_network : Potential -> Potential list` qui, étant donné une probabilité jointe, vous renvoie la liste des $P(X_i | {\\cal K_i})$. Pour cela, il vous suffit d'appliquer l'algorithme suivant:\n",
    "\n",
    "```\n",
    "liste = [] \n",
    "P = P(X_0,...,X_n)\n",
    "Pour i de n à 0 faire:\n",
    "  calculer Q = compact_conditional_proba(P,X_i)\n",
    "  afficher la liste des variables de Q\n",
    "  rajouter Q à liste\n",
    "  supprimer X_i de P par marginalisation\n",
    "\n",
    "retourner liste\n",
    "```\n",
    "\n",
    "Il est intéressant ici de noter les affichages des variables de Q: comme toutes les variables sont binaires, Q nécessite uniquement (2 puissance le nombre de ces variables) nombres réels. Ainsi une probabilité sur 3 variables ne nécessite que {$2^3=8$} nombres réels. \n"
   ]
  },
  {
   "cell_type": "code",
   "execution_count": 41,
   "metadata": {
    "pycharm": {
     "name": "#%%\n"
    }
   },
   "outputs": [],
   "source": [
    "def create_bayesian_network(P):\n",
    "    #votre code\n",
    "    L = P.var_names.copy()\n",
    "    liste=[]\n",
    "    for i in range(len(L)-1,-1,-1):\n",
    "        res = compact_conditional_proba(P,L[i])\n",
    "        print(res)\n",
    "        liste.append(res)\n",
    "        P = P.margSumOut(L[i])\n",
    "    return liste"
   ]
  },
  {
   "cell_type": "code",
   "execution_count": 42,
   "metadata": {
    "pycharm": {
     "name": "#%%\n"
    }
   },
   "outputs": [
    {
     "name": "stdout",
     "output_type": "stream",
     "text": [
      "\n",
      "                           ||  visit_to_Asia?   |\n",
      "tuberc|smokin|tuberc|positi||0        |1        |\n",
      "------|------|------|------||---------|---------|\n",
      "0     |0     |0     |0     || 0.0481  | 0.9519  |\n",
      "1     |0     |0     |0     || 0.0096  | 0.9904  |\n",
      "0     |1     |0     |0     || 0.0481  | 0.9519  |\n",
      "1     |1     |0     |0     || 0.0096  | 0.9904  |\n",
      "0     |0     |1     |0     || 0.0481  | 0.9519  |\n",
      "1     |0     |1     |0     || 0.0096  | 0.9904  |\n",
      "[...4 more line(s) ...]\n",
      "0     |1     |0     |1     || 0.0481  | 0.9519  |\n",
      "1     |1     |0     |1     || 0.0096  | 0.9904  |\n",
      "0     |0     |1     |1     || 0.0481  | 0.9519  |\n",
      "1     |0     |1     |1     || 0.0096  | 0.9904  |\n",
      "0     |1     |1     |1     || 0.0481  | 0.9519  |\n",
      "1     |1     |1     |1     || 0.0096  | 0.9904  |\n",
      "\n",
      "\n",
      "                    ||  tuberculosis?    |\n",
      "lung_c|tuberc|positi||0        |1        |\n",
      "------|------|------||---------|---------|\n",
      "0     |0     |0     || 0.0104  | 0.9896  |\n",
      "1     |0     |0     || 0.5099  | 0.4901  |\n",
      "0     |1     |0     || 0.0104  | 0.9896  |\n",
      "1     |1     |0     || 0.0001  | 0.9999  |\n",
      "0     |0     |1     || 0.0104  | 0.9896  |\n",
      "1     |0     |1     || 0.5099  | 0.4901  |\n",
      "0     |1     |1     || 0.0104  | 0.9896  |\n",
      "1     |1     |1     || 0.0001  | 0.9999  |\n",
      "\n",
      "\n",
      "                    ||  smoking?         |\n",
      "lung_c|bronch|positi||0        |1        |\n",
      "------|------|------||---------|---------|\n",
      "0     |0     |0     || 0.9524  | 0.0476  |\n",
      "1     |0     |0     || 0.6452  | 0.3548  |\n",
      "0     |1     |0     || 0.8511  | 0.1489  |\n",
      "1     |1     |0     || 0.3419  | 0.6581  |\n",
      "0     |0     |1     || 0.9524  | 0.0476  |\n",
      "1     |0     |1     || 0.6452  | 0.3548  |\n",
      "0     |1     |1     || 0.8511  | 0.1489  |\n",
      "1     |1     |1     || 0.3419  | 0.6581  |\n",
      "\n",
      "\n",
      "                    ||  lung_cancer?     |\n",
      "tuberc|bronch|positi||0        |1        |\n",
      "------|------|------||---------|---------|\n",
      "0     |0     |0     || 0.7868  | 0.2132  |\n",
      "1     |0     |0     || 0.0008  | 0.9992  |\n",
      "0     |1     |0     || 0.6864  | 0.3136  |\n",
      "1     |1     |0     || 0.0005  | 0.9995  |\n",
      "0     |0     |1     || 0.7868  | 0.2132  |\n",
      "1     |0     |1     || 0.0008  | 0.9992  |\n",
      "0     |1     |1     || 0.6864  | 0.3136  |\n",
      "1     |1     |1     || 0.0005  | 0.9995  |\n",
      "\n",
      "\n",
      "                    ||  tuberculosis_or_l|\n",
      "bronch|positi|dyspno||0        |1        |\n",
      "------|------|------||---------|---------|\n",
      "0     |0     |0     || 0.7088  | 0.2912  |\n",
      "1     |0     |0     || 0.9115  | 0.0885  |\n",
      "0     |1     |0     || 0.0026  | 0.9974  |\n",
      "1     |1     |0     || 0.0109  | 0.9891  |\n",
      "0     |0     |1     || 0.3869  | 0.6131  |\n",
      "1     |0     |1     || 0.2224  | 0.7776  |\n",
      "0     |1     |1     || 0.0007  | 0.9993  |\n",
      "1     |1     |1     || 0.0003  | 0.9997  |\n",
      "\n",
      "\n",
      "             ||  bronchitis?      |\n",
      "positi|dyspno||0        |1        |\n",
      "------|------||---------|---------|\n",
      "0     |0     || 0.6285  | 0.3715  |\n",
      "1     |0     || 0.8466  | 0.1534  |\n",
      "0     |1     || 0.2516  | 0.7484  |\n",
      "1     |1     || 0.2096  | 0.7904  |\n",
      "\n",
      "\n",
      "      ||  positive_Xray?   |\n",
      "dyspno||0        |1        |\n",
      "------||---------|---------|\n",
      "0     || 0.1954  | 0.8046  |\n",
      "1     || 0.0667  | 0.9333  |\n",
      "\n",
      "\n",
      "  dyspnoea?        |\n",
      "0        |1        |\n",
      "---------|---------|\n",
      " 0.4017  | 0.5983  |\n",
      "\n"
     ]
    },
    {
     "data": {
      "text/plain": "[(pyAgrum.Potential<double>@0x600000a1aac0) \n                            ||  visit_to_Asia?   |\n tuberc|smokin|tuberc|positi||0        |1        |\n ------|------|------|------||---------|---------|\n 0     |0     |0     |0     || 0.0481  | 0.9519  |\n 1     |0     |0     |0     || 0.0096  | 0.9904  |\n 0     |1     |0     |0     || 0.0481  | 0.9519  |\n 1     |1     |0     |0     || 0.0096  | 0.9904  |\n 0     |0     |1     |0     || 0.0481  | 0.9519  |\n 1     |0     |1     |0     || 0.0096  | 0.9904  |\n [...4 more line(s) ...]\n 0     |1     |0     |1     || 0.0481  | 0.9519  |\n 1     |1     |0     |1     || 0.0096  | 0.9904  |\n 0     |0     |1     |1     || 0.0481  | 0.9519  |\n 1     |0     |1     |1     || 0.0096  | 0.9904  |\n 0     |1     |1     |1     || 0.0481  | 0.9519  |\n 1     |1     |1     |1     || 0.0096  | 0.9904  |,\n (pyAgrum.Potential<double>@0x600000a19c60) \n                     ||  tuberculosis?    |\n lung_c|tuberc|positi||0        |1        |\n ------|------|------||---------|---------|\n 0     |0     |0     || 0.0104  | 0.9896  |\n 1     |0     |0     || 0.5099  | 0.4901  |\n 0     |1     |0     || 0.0104  | 0.9896  |\n 1     |1     |0     || 0.0001  | 0.9999  |\n 0     |0     |1     || 0.0104  | 0.9896  |\n 1     |0     |1     || 0.5099  | 0.4901  |\n 0     |1     |1     || 0.0104  | 0.9896  |\n 1     |1     |1     || 0.0001  | 0.9999  |,\n (pyAgrum.Potential<double>@0x600000a1ae60) \n                     ||  smoking?         |\n lung_c|bronch|positi||0        |1        |\n ------|------|------||---------|---------|\n 0     |0     |0     || 0.9524  | 0.0476  |\n 1     |0     |0     || 0.6452  | 0.3548  |\n 0     |1     |0     || 0.8511  | 0.1489  |\n 1     |1     |0     || 0.3419  | 0.6581  |\n 0     |0     |1     || 0.9524  | 0.0476  |\n 1     |0     |1     || 0.6452  | 0.3548  |\n 0     |1     |1     || 0.8511  | 0.1489  |\n 1     |1     |1     || 0.3419  | 0.6581  |,\n (pyAgrum.Potential<double>@0x600000a194e0) \n                     ||  lung_cancer?     |\n tuberc|bronch|positi||0        |1        |\n ------|------|------||---------|---------|\n 0     |0     |0     || 0.7868  | 0.2132  |\n 1     |0     |0     || 0.0008  | 0.9992  |\n 0     |1     |0     || 0.6864  | 0.3136  |\n 1     |1     |0     || 0.0005  | 0.9995  |\n 0     |0     |1     || 0.7868  | 0.2132  |\n 1     |0     |1     || 0.0008  | 0.9992  |\n 0     |1     |1     || 0.6864  | 0.3136  |\n 1     |1     |1     || 0.0005  | 0.9995  |,\n (pyAgrum.Potential<double>@0x600000a19760) \n                     ||  tuberculosis_or_l|\n bronch|positi|dyspno||0        |1        |\n ------|------|------||---------|---------|\n 0     |0     |0     || 0.7088  | 0.2912  |\n 1     |0     |0     || 0.9115  | 0.0885  |\n 0     |1     |0     || 0.0026  | 0.9974  |\n 1     |1     |0     || 0.0109  | 0.9891  |\n 0     |0     |1     || 0.3869  | 0.6131  |\n 1     |0     |1     || 0.2224  | 0.7776  |\n 0     |1     |1     || 0.0007  | 0.9993  |\n 1     |1     |1     || 0.0003  | 0.9997  |,\n (pyAgrum.Potential<double>@0x600000a19980) \n              ||  bronchitis?      |\n positi|dyspno||0        |1        |\n ------|------||---------|---------|\n 0     |0     || 0.6285  | 0.3715  |\n 1     |0     || 0.8466  | 0.1534  |\n 0     |1     || 0.2516  | 0.7484  |\n 1     |1     || 0.2096  | 0.7904  |,\n (pyAgrum.Potential<double>@0x600000a1ada0) \n       ||  positive_Xray?   |\n dyspno||0        |1        |\n ------||---------|---------|\n 0     || 0.1954  | 0.8046  |\n 1     || 0.0667  | 0.9333  |,\n (pyAgrum.Potential<double>@0x600000a196c0) \n   dyspnoea?        |\n 0        |1        |\n ---------|---------|\n  0.4017  | 0.5983  |]"
     },
     "execution_count": 42,
     "metadata": {},
     "output_type": "execute_result"
    }
   ],
   "source": [
    "create_bayesian_network(Pjointe)"
   ]
  },
  {
   "cell_type": "markdown",
   "metadata": {
    "pycharm": {
     "name": "#%% md\n"
    }
   },
   "source": [
    "### IV.4- Gain en compression\n",
    "\n",
    "On souhaite observer le gain en termes de consommation mémoire obtenu par votre décomposition. Si `P` est un `Potential`, alors `P.toarray().size` est égal à la taille (le nombre de paramètres) de la table `P`. Calculez donc le nombre de paramètres nécessaires pour stocker la probabilité jointe lue dans le fichier `asia.txt` ainsi que la somme des nombres de paramètres des tables que vous avez créées grâce à votre fonction `create_bayesian_network`. \n",
    "\n",
    "Check: le résultat attendu est : taille rb : 110   taille jointe : 256"
   ]
  },
  {
   "cell_type": "code",
   "execution_count": 43,
   "metadata": {
    "pycharm": {
     "name": "#%%\n"
    }
   },
   "outputs": [
    {
     "name": "stdout",
     "output_type": "stream",
     "text": [
      "Taille Pjointe 256\n",
      "\n",
      "                           ||  visit_to_Asia?   |\n",
      "tuberc|smokin|tuberc|positi||0        |1        |\n",
      "------|------|------|------||---------|---------|\n",
      "0     |0     |0     |0     || 0.0481  | 0.9519  |\n",
      "1     |0     |0     |0     || 0.0096  | 0.9904  |\n",
      "0     |1     |0     |0     || 0.0481  | 0.9519  |\n",
      "1     |1     |0     |0     || 0.0096  | 0.9904  |\n",
      "0     |0     |1     |0     || 0.0481  | 0.9519  |\n",
      "1     |0     |1     |0     || 0.0096  | 0.9904  |\n",
      "[...4 more line(s) ...]\n",
      "0     |1     |0     |1     || 0.0481  | 0.9519  |\n",
      "1     |1     |0     |1     || 0.0096  | 0.9904  |\n",
      "0     |0     |1     |1     || 0.0481  | 0.9519  |\n",
      "1     |0     |1     |1     || 0.0096  | 0.9904  |\n",
      "0     |1     |1     |1     || 0.0481  | 0.9519  |\n",
      "1     |1     |1     |1     || 0.0096  | 0.9904  |\n",
      "\n",
      "\n",
      "                    ||  tuberculosis?    |\n",
      "lung_c|tuberc|positi||0        |1        |\n",
      "------|------|------||---------|---------|\n",
      "0     |0     |0     || 0.0104  | 0.9896  |\n",
      "1     |0     |0     || 0.5099  | 0.4901  |\n",
      "0     |1     |0     || 0.0104  | 0.9896  |\n",
      "1     |1     |0     || 0.0001  | 0.9999  |\n",
      "0     |0     |1     || 0.0104  | 0.9896  |\n",
      "1     |0     |1     || 0.5099  | 0.4901  |\n",
      "0     |1     |1     || 0.0104  | 0.9896  |\n",
      "1     |1     |1     || 0.0001  | 0.9999  |\n",
      "\n",
      "\n",
      "                    ||  smoking?         |\n",
      "lung_c|bronch|positi||0        |1        |\n",
      "------|------|------||---------|---------|\n",
      "0     |0     |0     || 0.9524  | 0.0476  |\n",
      "1     |0     |0     || 0.6452  | 0.3548  |\n",
      "0     |1     |0     || 0.8511  | 0.1489  |\n",
      "1     |1     |0     || 0.3419  | 0.6581  |\n",
      "0     |0     |1     || 0.9524  | 0.0476  |\n",
      "1     |0     |1     || 0.6452  | 0.3548  |\n",
      "0     |1     |1     || 0.8511  | 0.1489  |\n",
      "1     |1     |1     || 0.3419  | 0.6581  |\n",
      "\n",
      "\n",
      "                    ||  lung_cancer?     |\n",
      "tuberc|bronch|positi||0        |1        |\n",
      "------|------|------||---------|---------|\n",
      "0     |0     |0     || 0.7868  | 0.2132  |\n",
      "1     |0     |0     || 0.0008  | 0.9992  |\n",
      "0     |1     |0     || 0.6864  | 0.3136  |\n",
      "1     |1     |0     || 0.0005  | 0.9995  |\n",
      "0     |0     |1     || 0.7868  | 0.2132  |\n",
      "1     |0     |1     || 0.0008  | 0.9992  |\n",
      "0     |1     |1     || 0.6864  | 0.3136  |\n",
      "1     |1     |1     || 0.0005  | 0.9995  |\n",
      "\n",
      "\n",
      "                    ||  tuberculosis_or_l|\n",
      "bronch|positi|dyspno||0        |1        |\n",
      "------|------|------||---------|---------|\n",
      "0     |0     |0     || 0.7088  | 0.2912  |\n",
      "1     |0     |0     || 0.9115  | 0.0885  |\n",
      "0     |1     |0     || 0.0026  | 0.9974  |\n",
      "1     |1     |0     || 0.0109  | 0.9891  |\n",
      "0     |0     |1     || 0.3869  | 0.6131  |\n",
      "1     |0     |1     || 0.2224  | 0.7776  |\n",
      "0     |1     |1     || 0.0007  | 0.9993  |\n",
      "1     |1     |1     || 0.0003  | 0.9997  |\n",
      "\n",
      "\n",
      "             ||  bronchitis?      |\n",
      "positi|dyspno||0        |1        |\n",
      "------|------||---------|---------|\n",
      "0     |0     || 0.6285  | 0.3715  |\n",
      "1     |0     || 0.8466  | 0.1534  |\n",
      "0     |1     || 0.2516  | 0.7484  |\n",
      "1     |1     || 0.2096  | 0.7904  |\n",
      "\n",
      "\n",
      "      ||  positive_Xray?   |\n",
      "dyspno||0        |1        |\n",
      "------||---------|---------|\n",
      "0     || 0.1954  | 0.8046  |\n",
      "1     || 0.0667  | 0.9333  |\n",
      "\n",
      "\n",
      "  dyspnoea?        |\n",
      "0        |1        |\n",
      "---------|---------|\n",
      " 0.4017  | 0.5983  |\n",
      "\n",
      "Taille Réseau Bayésien 110\n"
     ]
    }
   ],
   "source": [
    "# votre code\n",
    "print(\"Taille Pjointe\", 2**len(Pjointe.var_names))\n",
    "LP= create_bayesian_network(Pjointe)\n",
    "\n",
    "taille = 0\n",
    "for P in LP:\n",
    "    taille += 2**len(P.var_names)\n",
    "print(\"Taille Réseau Bayésien\", taille)"
   ]
  },
  {
   "cell_type": "markdown",
   "metadata": {
    "pycharm": {
     "name": "#%% md\n"
    }
   },
   "source": [
    "## V- Applications pratiques (optionnelle)"
   ]
  },
  {
   "cell_type": "markdown",
   "metadata": {
    "pycharm": {
     "name": "#%% md\n"
    }
   },
   "source": [
    "La technique de décomposition que vous avez vue est effectivement utilisée en pratique. Vous pouvez voir le gain que l'on peut obtenir sur différentes distributions de probabilité du site :\n",
    "\n",
    "http://www.bnlearn.com/bnrepository/\n",
    "\n",
    "Cliquez sur le nom du dataset que vous voulez visualiser et téléchargez son .bif ou .dsl. Afin de visualiser le contenu du fichier, vous allez utiliser pyAgrum. Le code suivant vous permettra alors de visualiser votre dataset: la valeur indiquée après \"domainSize\" est la taille de la probabilité jointe d'origine (en nombre de paramètres) et celle après \"dim\" est la taille de la probabilité sous forme compacte (somme des tailles des probabilités conditionnelles compactes). "
   ]
  },
  {
   "cell_type": "code",
   "execution_count": 44,
   "metadata": {
    "pycharm": {
     "name": "#%%\n"
    }
   },
   "outputs": [
    {
     "name": "stdout",
     "output_type": "stream",
     "text": [
      "BN{nodes: 8, arcs: 8, domainSize: 256, dim: 36}\n"
     ]
    },
    {
     "data": {
      "text/plain": "(pyAgrum.BayesNet<double>@0x10582c400) BN{nodes: 8, arcs: 8, domainSize: 256, dim: 36}",
      "text/html": "<svg xmlns=\"http://www.w3.org/2000/svg\" xmlns:xlink=\"http://www.w3.org/1999/xlink\" width=\"339pt\" height=\"260pt\" viewBox=\"0.00 0.00 338.79 260.00\">\n<g id=\"graph0\" class=\"graph\" transform=\"scale(1 1) rotate(0) translate(4 256)\">\n<title>G</title>\n<!-- positive_XraY? -->\n<g id=\"node1\" class=\"node\">\n<title>positive_XraY?</title>\n<g id=\"a_node1\"><a xlink:title=\"(3) positive_XraY?\">\n<ellipse fill=\"#404040\" stroke=\"black\" cx=\"208.05\" cy=\"-18\" rx=\"66.09\" ry=\"18\"/>\n<text text-anchor=\"middle\" x=\"208.05\" y=\"-14.3\" font-family=\"Times,serif\" font-size=\"14.00\" fill=\"white\">positive_XraY?</text>\n</a>\n</g>\n</g>\n<!-- tuberculosis? -->\n<g id=\"node2\" class=\"node\">\n<title>tuberculosis?</title>\n<g id=\"a_node2\"><a xlink:title=\"(1) tuberculosis?\">\n<ellipse fill=\"#404040\" stroke=\"black\" cx=\"269.05\" cy=\"-162\" rx=\"57.39\" ry=\"18\"/>\n<text text-anchor=\"middle\" x=\"269.05\" y=\"-158.3\" font-family=\"Times,serif\" font-size=\"14.00\" fill=\"white\">tuberculosis?</text>\n</a>\n</g>\n</g>\n<!-- tuberculos_or_cancer? -->\n<g id=\"node3\" class=\"node\">\n<title>tuberculos_or_cancer?</title>\n<g id=\"a_node3\"><a xlink:title=\"(2) tuberculos_or_cancer?\">\n<ellipse fill=\"#404040\" stroke=\"black\" cx=\"208.05\" cy=\"-90\" rx=\"90.18\" ry=\"18\"/>\n<text text-anchor=\"middle\" x=\"208.05\" y=\"-86.3\" font-family=\"Times,serif\" font-size=\"14.00\" fill=\"white\">tuberculos_or_cancer?</text>\n</a>\n</g>\n</g>\n<!-- tuberculosis?&#45;&gt;tuberculos_or_cancer? -->\n<g id=\"edge2\" class=\"edge\">\n<title>tuberculosis?-&gt;tuberculos_or_cancer?</title>\n<g id=\"a_edge2\"><a xlink:title=\"(1, 2) : \">\n<path fill=\"none\" stroke=\"#4a4a4a\" d=\"M254.59,-144.41C247.1,-135.82 237.81,-125.16 229.51,-115.63\"/>\n<polygon fill=\"#4a4a4a\" stroke=\"#4a4a4a\" points=\"232.03,-113.2 222.82,-107.96 226.75,-117.79 232.03,-113.2\"/>\n</a>\n</g>\n</g>\n<!-- tuberculos_or_cancer?&#45;&gt;positive_XraY? -->\n<g id=\"edge6\" class=\"edge\">\n<title>tuberculos_or_cancer?-&gt;positive_XraY?</title>\n<g id=\"a_edge6\"><a xlink:title=\"(2, 3) : \">\n<path fill=\"none\" stroke=\"#4a4a4a\" d=\"M208.05,-71.7C208.05,-63.98 208.05,-54.71 208.05,-46.11\"/>\n<polygon fill=\"#4a4a4a\" stroke=\"#4a4a4a\" points=\"211.55,-46.1 208.05,-36.1 204.55,-46.1 211.55,-46.1\"/>\n</a>\n</g>\n</g>\n<!-- dyspnoea? -->\n<g id=\"node8\" class=\"node\">\n<title>dyspnoea?</title>\n<g id=\"a_node8\"><a xlink:title=\"(7) dyspnoea?\">\n<ellipse fill=\"#404040\" stroke=\"black\" cx=\"63.05\" cy=\"-18\" rx=\"48.19\" ry=\"18\"/>\n<text text-anchor=\"middle\" x=\"63.05\" y=\"-14.3\" font-family=\"Times,serif\" font-size=\"14.00\" fill=\"white\">dyspnoea?</text>\n</a>\n</g>\n</g>\n<!-- tuberculos_or_cancer?&#45;&gt;dyspnoea? -->\n<g id=\"edge3\" class=\"edge\">\n<title>tuberculos_or_cancer?-&gt;dyspnoea?</title>\n<g id=\"a_edge3\"><a xlink:title=\"(2, 7) : \">\n<path fill=\"none\" stroke=\"#4a4a4a\" d=\"M175.14,-73.12C152.96,-62.41 123.65,-48.26 100.57,-37.11\"/>\n<polygon fill=\"#4a4a4a\" stroke=\"#4a4a4a\" points=\"101.94,-33.89 91.41,-32.7 98.9,-40.19 101.94,-33.89\"/>\n</a>\n</g>\n</g>\n<!-- smoking? -->\n<g id=\"node4\" class=\"node\">\n<title>smoking?</title>\n<g id=\"a_node4\"><a xlink:title=\"(5) smoking?\">\n<ellipse fill=\"#404040\" stroke=\"black\" cx=\"93.05\" cy=\"-234\" rx=\"45.49\" ry=\"18\"/>\n<text text-anchor=\"middle\" x=\"93.05\" y=\"-230.3\" font-family=\"Times,serif\" font-size=\"14.00\" fill=\"white\">smoking?</text>\n</a>\n</g>\n</g>\n<!-- bronchitis? -->\n<g id=\"node5\" class=\"node\">\n<title>bronchitis?</title>\n<g id=\"a_node5\"><a xlink:title=\"(6) bronchitis?\">\n<ellipse fill=\"#404040\" stroke=\"black\" cx=\"50.05\" cy=\"-90\" rx=\"50.09\" ry=\"18\"/>\n<text text-anchor=\"middle\" x=\"50.05\" y=\"-86.3\" font-family=\"Times,serif\" font-size=\"14.00\" fill=\"white\">bronchitis?</text>\n</a>\n</g>\n</g>\n<!-- smoking?&#45;&gt;bronchitis? -->\n<g id=\"edge8\" class=\"edge\">\n<title>smoking?-&gt;bronchitis?</title>\n<g id=\"a_edge8\"><a xlink:title=\"(5, 6) : \">\n<path fill=\"none\" stroke=\"#4a4a4a\" d=\"M84.31,-216.19C79.27,-205.95 73.15,-192.47 69.05,-180 62.35,-159.65 57.42,-135.88 54.26,-118.03\"/>\n<polygon fill=\"#4a4a4a\" stroke=\"#4a4a4a\" points=\"57.68,-117.29 52.56,-108.02 50.78,-118.46 57.68,-117.29\"/>\n</a>\n</g>\n</g>\n<!-- lung_cancer? -->\n<g id=\"node6\" class=\"node\">\n<title>lung_cancer?</title>\n<g id=\"a_node6\"><a xlink:title=\"(4) lung_cancer?\">\n<ellipse fill=\"#404040\" stroke=\"black\" cx=\"136.05\" cy=\"-162\" rx=\"57.69\" ry=\"18\"/>\n<text text-anchor=\"middle\" x=\"136.05\" y=\"-158.3\" font-family=\"Times,serif\" font-size=\"14.00\" fill=\"white\">lung_cancer?</text>\n</a>\n</g>\n</g>\n<!-- smoking?&#45;&gt;lung_cancer? -->\n<g id=\"edge4\" class=\"edge\">\n<title>smoking?-&gt;lung_cancer?</title>\n<g id=\"a_edge4\"><a xlink:title=\"(5, 4) : \">\n<path fill=\"none\" stroke=\"#4a4a4a\" d=\"M103.24,-216.41C108.36,-208.08 114.67,-197.8 120.39,-188.49\"/>\n<polygon fill=\"#4a4a4a\" stroke=\"#4a4a4a\" points=\"123.38,-190.31 125.63,-179.96 117.41,-186.65 123.38,-190.31\"/>\n</a>\n</g>\n</g>\n<!-- bronchitis?&#45;&gt;dyspnoea? -->\n<g id=\"edge7\" class=\"edge\">\n<title>bronchitis?-&gt;dyspnoea?</title>\n<g id=\"a_edge7\"><a xlink:title=\"(6, 7) : \">\n<path fill=\"none\" stroke=\"#4a4a4a\" d=\"M53.26,-71.7C54.69,-63.98 56.41,-54.71 58.01,-46.11\"/>\n<polygon fill=\"#4a4a4a\" stroke=\"#4a4a4a\" points=\"61.48,-46.58 59.87,-36.1 54.6,-45.3 61.48,-46.58\"/>\n</a>\n</g>\n</g>\n<!-- lung_cancer?&#45;&gt;tuberculos_or_cancer? -->\n<g id=\"edge5\" class=\"edge\">\n<title>lung_cancer?-&gt;tuberculos_or_cancer?</title>\n<g id=\"a_edge5\"><a xlink:title=\"(4, 2) : \">\n<path fill=\"none\" stroke=\"#4a4a4a\" d=\"M152.74,-144.76C161.75,-136.01 173.04,-125.03 183.07,-115.28\"/>\n<polygon fill=\"#4a4a4a\" stroke=\"#4a4a4a\" points=\"185.7,-117.6 190.43,-108.12 180.82,-112.59 185.7,-117.6\"/>\n</a>\n</g>\n</g>\n<!-- visit_to_Asia? -->\n<g id=\"node7\" class=\"node\">\n<title>visit_to_Asia?</title>\n<g id=\"a_node7\"><a xlink:title=\"(0) visit_to_Asia?\">\n<ellipse fill=\"#404040\" stroke=\"black\" cx=\"269.05\" cy=\"-234\" rx=\"61.99\" ry=\"18\"/>\n<text text-anchor=\"middle\" x=\"269.05\" y=\"-230.3\" font-family=\"Times,serif\" font-size=\"14.00\" fill=\"white\">visit_to_Asia?</text>\n</a>\n</g>\n</g>\n<!-- visit_to_Asia?&#45;&gt;tuberculosis? -->\n<g id=\"edge1\" class=\"edge\">\n<title>visit_to_Asia?-&gt;tuberculosis?</title>\n<g id=\"a_edge1\"><a xlink:title=\"(0, 1) : \">\n<path fill=\"none\" stroke=\"#4a4a4a\" d=\"M269.05,-215.7C269.05,-207.98 269.05,-198.71 269.05,-190.11\"/>\n<polygon fill=\"#4a4a4a\" stroke=\"#4a4a4a\" points=\"272.55,-190.1 269.05,-180.1 265.55,-190.1 272.55,-190.1\"/>\n</a>\n</g>\n</g>\n</g>\n</svg>"
     },
     "execution_count": 44,
     "metadata": {},
     "output_type": "execute_result"
    }
   ],
   "source": [
    "# chargement de pyAgrum\n",
    "import pyAgrum as gum\n",
    "\n",
    "# chargement du fichier bif ou dsl\n",
    "bn = gum.loadBN ( \"asia.bif\" )\n",
    "\n",
    "# affichage de la taille des probabilités jointes compacte et non compacte\n",
    "print(bn)\n",
    "\n",
    "# affichage graphique du réseau bayésien\n",
    "bn"
   ]
  }
 ],
 "metadata": {
  "jupytext": {
   "formats": "ipynb,py"
  },
  "kernelspec": {
   "display_name": "Python 3.10.6 ('base')",
   "language": "python",
   "name": "python3"
  },
  "language_info": {
   "codemirror_mode": {
    "name": "ipython",
    "version": 3
   },
   "file_extension": ".py",
   "mimetype": "text/x-python",
   "name": "python",
   "nbconvert_exporter": "python",
   "pygments_lexer": "ipython3",
   "version": "3.10.6"
  },
  "vscode": {
   "interpreter": {
    "hash": "c6e4e9f98eb68ad3b7c296f83d20e6de614cb42e90992a65aa266555a3137d0d"
   }
  }
 },
 "nbformat": 4,
 "nbformat_minor": 4
}