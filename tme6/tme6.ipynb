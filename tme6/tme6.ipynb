{
 "cells": [
  {
   "cell_type": "markdown",
   "metadata": {},
   "source": [
    "# TME sur la classification de lettres manuscrites\n",
    "## Format des données\n",
    "Nous travaillerons sur des lettres manuscrites.\n",
    "Les données sont fournies au format pickle (le standard de sérialisation python, particulièrement convivial). Pour les charger : "
   ]
  },
  {
   "cell_type": "code",
   "execution_count": 23,
   "metadata": {},
   "outputs": [],
   "source": [
    "import pickle as pkl\n",
    "\n",
    "import matplotlib.pyplot as plt\n",
    "import numpy as np\n",
    "\n",
    "with open(\"ressources/lettres.pkl\", \"rb\") as f:\n",
    "    data = pkl.load(f, encoding=\"latin1\")\n",
    "X = np.array(\n",
    "    data.get(\"letters\"), dtype=object\n",
    ")  # récupération des données sur les lettres\n",
    "Y = np.array(data.get(\"labels\"), dtype=object)  # récupération des étiquettes associées\n"
   ]
  },
  {
   "cell_type": "markdown",
   "metadata": {},
   "source": [
    "Les données sont dans un format original: une lettre est en fait une série d'angles (exprimés en degrés). Un exemple: "
   ]
  },
  {
   "cell_type": "code",
   "execution_count": 24,
   "metadata": {},
   "outputs": [
    {
     "data": {
      "text/plain": [
       "array([ 36.214493, 347.719116, 322.088898, 312.230957, 314.851013,\n",
       "       315.487213, 313.556702, 326.534973, 141.288971, 167.606689,\n",
       "       199.321594, 217.911087, 226.443298, 235.002472, 252.354492,\n",
       "       270.045654, 291.665161, 350.934723,  17.892815,  20.281025,\n",
       "        28.207161,  43.883423,  53.459026])"
      ]
     },
     "execution_count": 24,
     "metadata": {},
     "output_type": "execute_result"
    }
   ],
   "source": [
    "X[0]"
   ]
  },
  {
   "cell_type": "markdown",
   "metadata": {},
   "source": [
    "Lors de l'acquisition, un stylo intelligent a pris des mesures régulièrement dans le temps: chaque période correspond à un segment de droite et le stylo a calculé l'angle entre deux segments consécutifs... C'est l'information qui vous est fournie.\n",
    "\n",
    "Pour afficher une lettre, il faut reconstruire la trajectoire enregistrée... C'est ce que fait la méthode ci-dessous: "
   ]
  },
  {
   "cell_type": "code",
   "execution_count": 25,
   "metadata": {},
   "outputs": [],
   "source": [
    "# affichage d'une lettre\n",
    "def tracerLettre(let):\n",
    "    a = -let*np.pi/180; # conversion en rad\n",
    "    coord = np.array([[0, 0]]); # point initial\n",
    "    for i in range(len(a)):\n",
    "        x = np.array([[1, 0]]);\n",
    "        rot = np.array([[np.cos(a[i]), -np.sin(a[i])],[ np.sin(a[i]),np.cos(a[i])]])\n",
    "        xr = x.dot(rot) # application de la rotation\n",
    "        coord = np.vstack((coord,xr+coord[-1,:]))\n",
    "    plt.figure()\n",
    "    plt.plot(coord[:,0],coord[:,1])\n",
    "    #plt.savefig(\"exlettre.png\")\n",
    "    return"
   ]
  },
  {
   "cell_type": "code",
   "execution_count": 26,
   "metadata": {},
   "outputs": [
    {
     "name": "stdout",
     "output_type": "stream",
     "text": [
      "a\n"
     ]
    },
    {
     "data": {
      "image/png": "[encoded data removed]",
      "text/plain": [
       "<Figure size 640x480 with 1 Axes>"
      ]
     },
     "metadata": {},
     "output_type": "display_data"
    }
   ],
   "source": [
    "# il s'agit d'un 'a'\n",
    "tracerLettre(X[0])\n",
    "print(Y[0]) # vérification de l'étiquette"
   ]
  },
  {
   "cell_type": "markdown",
   "metadata": {},
   "source": [
    "## A. Apprentissage d'un modèle CM (max de vraisemblance)\n",
    "### A1. Discrétisation\n",
    "\n",
    "**1 état = 1 angle**\n",
    "\n",
    "Il est nécessaire de regrouper les angles en un nombre fini d'états (par exemple 20)\n",
    "- définir un `intervalle = 360 / n_etats` (18° si on choisit 20 états)\n",
    "- discrétiser tous les signaux à l'aide de la formule `np.floor(x / intervalle)`\n",
    "    - si n_etats = 20 alors [0, 18[ => 0, [18, 36[ => 1, etc...\n",
    "\n",
    "Donner le code de la méthode `discretise(x, d)` qui prend la base des signaux et retourne une base de signaux discrétisés."
   ]
  },
  {
   "cell_type": "code",
   "execution_count": 27,
   "metadata": {},
   "outputs": [
    {
     "name": "stdout",
     "output_type": "stream",
     "text": [
      "[array([0., 2., 2., 2., 2., 2., 2., 2., 1., 1., 1., 1., 1., 1., 2., 2., 2.,\n",
      "        2., 0., 0., 0., 0., 0.])\n",
      " array([2., 2., 2., 2., 2., 2., 2., 1., 1., 1., 1., 1., 1., 1., 2., 2., 2.,\n",
      "        2., 2., 0., 0.])\n",
      " array([2., 2., 2., 2., 2., 2., 2., 2., 1., 1., 1., 1., 1., 1., 2., 2., 2.,\n",
      "        2., 0., 0., 0., 0., 0.])\n",
      " array([2., 2., 2., 2., 2., 0., 0., 1., 1., 1., 1., 2., 2., 2., 2., 2., 0.,\n",
      "        0., 0., 0.])\n",
      " array([0., 2., 2., 2., 2., 2., 2., 1., 1., 1., 1., 1., 1., 2., 2., 2., 2.,\n",
      "        0., 0., 0., 0., 0., 0.])\n",
      " array([2., 2., 2., 2., 2., 2., 2., 0., 1., 1., 1., 1., 2., 2., 2., 2., 2.,\n",
      "        0., 0., 0., 0., 0., 0.])\n",
      " array([2., 2., 2., 2., 2., 2., 2., 1., 1., 1., 1., 1., 1., 1., 2., 2., 2.,\n",
      "        2., 0., 0., 0., 0.])\n",
      " array([0., 2., 2., 2., 2., 2., 2., 2., 1., 1., 1., 1., 1., 1., 1., 1., 2.,\n",
      "        2., 2., 2., 2., 0., 0., 0.])\n",
      " array([2., 2., 2., 2., 2., 2., 2., 1., 1., 1., 1., 2., 2., 2., 2., 0., 0.,\n",
      "        0., 0.])\n",
      " array([2., 2., 2., 2., 2., 2., 2., 2., 0., 0., 1., 1., 1., 1., 1., 1., 2.,\n",
      "        2., 2., 2., 0., 0.])\n",
      " array([0., 2., 2., 2., 2., 2., 2., 2., 1., 1., 1., 1., 1., 1., 1., 1., 2.,\n",
      "        2., 2., 0., 0., 0., 0., 0., 0.])\n",
      " array([2., 2., 2., 2., 2., 2., 2., 2., 0., 0., 0., 0., 0., 2., 2., 2., 2.,\n",
      "        1., 1., 1., 1.])\n",
      " array([2., 2., 2., 2., 2., 2., 2., 2., 0., 0., 0., 0., 0., 2., 2., 2., 2.,\n",
      "        1., 1., 1., 1., 1.])\n",
      " array([2., 2., 2., 2., 2., 2., 0., 0., 0., 0., 2., 2., 2., 2., 1., 1., 1.,\n",
      "        1.])\n",
      " array([2., 2., 2., 2., 2., 2., 2., 2., 2., 0., 0., 0., 0., 0., 0., 2., 2.,\n",
      "        2., 2., 2., 2., 1., 1., 1., 1., 1.])\n",
      " array([2., 2., 2., 2., 2., 2., 2., 2., 0., 0., 0., 0., 0., 2., 2., 2., 2.,\n",
      "        2., 1., 1., 1., 1.])\n",
      " array([2., 2., 2., 2., 2., 2., 2., 2., 0., 0., 0., 0., 0., 0., 2., 2., 2.,\n",
      "        2., 2., 1., 1., 1., 1., 1.])\n",
      " array([2., 2., 2., 2., 2., 2., 2., 2., 0., 0., 0., 0., 0., 0., 0., 2., 2.,\n",
      "        2., 2., 2., 2., 2., 1., 1., 1., 1., 1., 1.])\n",
      " array([2., 2., 2., 2., 2., 2., 2., 2., 0., 0., 0., 0., 0., 0., 2., 2., 2.,\n",
      "        2., 2., 1., 1., 1., 1., 1.])\n",
      " array([2., 2., 2., 2., 2., 2., 2., 2., 0., 0., 0., 0., 0., 0., 0., 2., 2.,\n",
      "        2., 2., 2., 2., 1., 1., 1., 1.])\n",
      " array([2., 2., 2., 2., 2., 2., 0., 0., 0., 2., 2., 2., 2., 2., 2., 1.])\n",
      " array([2., 2., 2., 2., 2., 2., 2., 0., 0., 0., 0., 0., 2., 2., 2., 2., 1.,\n",
      "        1., 1., 1., 1., 1.])\n",
      " array([1., 1., 1., 1., 1., 1., 2., 2., 2., 2., 2., 2., 2., 2., 0., 0., 0.,\n",
      "        0., 0., 0.])\n",
      " array([1., 1., 1., 2., 2., 2., 2., 2., 2., 2., 2., 2., 0., 0., 0., 0.])\n",
      " array([0., 1., 1., 1., 1., 2., 1., 2., 2., 2., 2., 2., 2., 2., 0., 0., 0.,\n",
      "        0., 0., 0.])\n",
      " array([1., 1., 1., 1., 2., 1., 2., 2., 2., 2., 2., 2., 0., 0., 0., 0.])\n",
      " array([1., 1., 2., 2., 2., 2., 2., 2., 2., 2., 0., 0., 0., 0., 0., 0., 0.,\n",
      "        0., 0.])\n",
      " array([1., 1., 1., 1., 2., 2., 2., 2., 2., 2., 2., 2., 0., 0., 0., 0., 0.,\n",
      "        0.])\n",
      " array([1., 1., 1., 1., 1., 2., 2., 2., 2., 2., 2., 2., 0., 0., 0., 0., 0.,\n",
      "        0.])\n",
      " array([1., 1., 1., 1., 1., 2., 2., 2., 2., 2., 2., 0., 0., 0., 0., 0., 0.,\n",
      "        0., 0.])\n",
      " array([0., 1., 1., 1., 1., 1., 2., 2., 2., 2., 2., 2., 2., 2., 0., 0., 0.,\n",
      "        0.])\n",
      " array([0., 1., 1., 1., 1., 1., 1., 2., 2., 2., 2., 2., 2., 2., 0., 0., 0.,\n",
      "        0., 0., 0., 0.])\n",
      " array([1., 1., 1., 1., 1., 1., 1., 2., 2., 2., 2., 2., 2., 0., 0., 0., 0.,\n",
      "        0.])\n",
      " array([2., 2., 2., 2., 2., 2., 2., 2., 0., 1., 1., 1., 1., 1., 2., 2., 2.,\n",
      "        2., 0., 0., 0.])\n",
      " array([2., 2., 2., 2., 2., 2., 2., 0., 1., 1., 1., 1., 1., 2., 2., 2., 2.,\n",
      "        0., 0., 0.])\n",
      " array([2., 2., 2., 2., 2., 2., 2., 0., 1., 1., 1., 1., 2., 2., 2., 2., 0.,\n",
      "        0.])\n",
      " array([2., 2., 2., 2., 2., 2., 0., 1., 1., 1., 2., 2., 2., 2., 2., 0., 0.,\n",
      "        0., 0.])\n",
      " array([2., 2., 2., 2., 2., 2., 1., 1., 1., 1., 1., 1., 2., 2., 2., 0., 0.])\n",
      " array([2., 2., 2., 2., 2., 2., 0., 1., 1., 1., 2., 2., 2., 0., 0., 0., 0.])\n",
      " array([2., 2., 2., 2., 2., 2., 2., 2., 0., 1., 1., 1., 1., 1., 2., 2., 2.,\n",
      "        2., 0., 0., 0., 0.])\n",
      " array([2., 2., 2., 2., 2., 2., 2., 0., 1., 1., 1., 1., 1., 2., 2., 2., 2.,\n",
      "        0., 0., 0.])\n",
      " array([2., 2., 2., 2., 2., 2., 2., 1., 1., 1., 1., 2., 2., 2., 2., 0., 0.,\n",
      "        0.])\n",
      " array([2., 2., 2., 2., 2., 2., 2., 1., 1., 1., 1., 2., 2., 2., 2., 0., 0.])\n",
      " array([2., 2., 2., 2., 2., 2., 1., 1., 1., 1., 1., 1., 2., 2., 2., 0., 0.,\n",
      "        0., 0., 0.])\n",
      " array([0., 0., 0., 0., 0., 0., 0., 1., 1., 1., 2., 2., 2., 2., 2., 2., 2.,\n",
      "        2., 2., 0., 0.])\n",
      " array([0., 0., 0., 0., 0., 0., 0., 0., 0., 0., 1., 1., 1., 1., 1., 1., 1.,\n",
      "        2., 2., 2., 2., 2., 2., 2., 2., 0., 0.])\n",
      " array([0., 0., 0., 0., 0., 0., 0., 0., 1., 1., 1., 1., 1., 1., 1., 2., 2.,\n",
      "        2., 2., 2., 2., 2., 2., 2., 0., 0., 0., 0.])\n",
      " array([0., 0., 0., 0., 0., 0., 1., 1., 1., 1., 1., 2., 2., 2., 2., 2., 2.,\n",
      "        2., 2., 2., 0.])\n",
      " array([0., 0., 0., 0., 0., 0., 0., 0., 1., 1., 1., 1., 1., 2., 2., 2., 2.,\n",
      "        2., 2., 2., 2., 2., 0., 0.])\n",
      " array([0., 0., 0., 0., 0., 0., 0., 0., 0., 0., 0., 0., 1., 1., 1., 1., 1.,\n",
      "        1., 1., 1., 2., 2., 2., 2., 2., 2., 2., 0., 0., 0., 0., 0.])\n",
      " array([0., 0., 0., 0., 0., 0., 1., 1., 1., 1., 2., 2., 2., 2., 2., 2., 2.,\n",
      "        2., 2., 0.])\n",
      " array([2., 0., 0., 0., 0., 0., 0., 1., 1., 1., 1., 2., 2., 2., 2., 2., 2.,\n",
      "        2., 2., 0., 0.])\n",
      " array([0., 0., 0., 0., 0., 0., 0., 0., 1., 1., 1., 1., 2., 2., 2., 2., 2.,\n",
      "        2., 2., 2., 2., 0., 0.])\n",
      " array([0., 0., 0., 0., 0., 0., 0., 0., 1., 1., 1., 1., 1., 1., 2., 2., 2.,\n",
      "        2., 2., 2., 2., 0., 0., 0., 0.])\n",
      " array([0., 0., 0., 0., 0., 0., 0., 0., 0., 0., 0., 1., 1., 1., 1., 1., 1.,\n",
      "        1., 1., 2., 2., 2., 2., 2., 2., 2., 2., 0.])\n",
      " array([0., 1., 1., 1., 2.]) array([1., 1., 1., 1.])\n",
      " array([1., 1., 1., 1., 1., 2.]) array([0., 1., 1., 1.])\n",
      " array([1., 1., 2., 2., 2.]) array([1., 1., 1., 1.])\n",
      " array([1., 1., 1., 2., 2., 2.]) array([0., 1., 1., 1., 2., 2.])\n",
      " array([1., 2., 2., 2., 2.]) array([1., 1., 2., 2.])\n",
      " array([1., 1., 2., 2.]) array([1., 1.]) array([1., 1.]) array([1., 1.])\n",
      " array([1., 1.]) array([1., 1., 2.]) array([1., 2., 2.])\n",
      " array([1., 1., 1.]) array([1., 1., 1.]) array([1., 1., 1., 2.])\n",
      " array([1., 1., 1.]) array([1., 1.])\n",
      " array([2., 2., 2., 2., 2., 2., 2., 2., 2., 0., 0., 0., 0., 0., 0., 0., 2.,\n",
      "        2., 2., 2., 2., 2.])\n",
      " array([2., 2., 2., 2., 2., 2., 2., 2., 2., 0., 0., 0., 0., 0., 2., 2., 2.,\n",
      "        2., 2.])\n",
      " array([2., 2., 2., 2., 2., 2., 2., 2., 2., 0., 0., 0., 2., 2., 2., 2., 2.])\n",
      " array([2., 2., 2., 2., 2., 2., 2., 2., 0., 0., 0., 0., 2., 2., 2., 2., 2.])\n",
      " array([2., 2., 2., 2., 2., 2., 2., 2., 2., 0., 0., 0., 0., 2., 2., 2., 2.])\n",
      " array([2., 2., 2., 2., 2., 2., 2., 2., 2., 0., 0., 0., 0., 0., 0., 0., 0.,\n",
      "        2., 2., 2., 2., 2., 2., 2.])\n",
      " array([2., 2., 2., 2., 2., 2., 2., 2., 2., 0., 0., 0., 0., 0., 2., 2., 2.,\n",
      "        2., 2., 2.])\n",
      " array([2., 2., 2., 2., 2., 2., 2., 2., 0., 0., 0., 0., 0., 0., 2., 2., 2.,\n",
      "        2., 2.])\n",
      " array([2., 2., 2., 2., 2., 2., 2., 2., 2., 0., 0., 0., 0., 2., 2., 2., 2.])\n",
      " array([2., 2., 2., 2., 2., 2., 2., 2., 0., 0., 0., 0., 0., 0., 2., 2., 2.,\n",
      "        2., 2., 2., 2.])\n",
      " array([2., 2., 2., 2., 2., 2., 2., 2., 2., 0., 0., 0., 0., 0., 2., 2., 2.])\n",
      " array([2., 2., 2., 2., 2., 2., 2., 2., 2., 2.])\n",
      " array([2., 2., 2., 2., 2., 2., 2., 2., 2., 2.])\n",
      " array([2., 2., 2., 2., 2., 2., 2., 2., 2., 2.])\n",
      " array([2., 2., 2., 2., 2., 2., 2., 2., 2., 2.])\n",
      " array([2., 2., 2., 2., 2., 2., 2., 2., 2., 2., 2.])\n",
      " array([2., 2., 2., 2., 2., 2., 2., 2., 2., 2.])\n",
      " array([2., 2., 2., 2., 2., 2., 2., 2., 2.])\n",
      " array([2., 2., 2., 2., 2., 2., 2., 2., 2., 2., 2.])\n",
      " array([2., 2., 2., 2., 2., 2., 2., 2., 2., 2.])\n",
      " array([2., 2., 2., 2., 2., 2., 2., 2., 2.])\n",
      " array([2., 2., 2., 2., 2., 2., 2., 2., 1., 1., 1., 1., 1.])\n",
      " array([2., 2., 2., 2., 2., 2., 2., 2., 1., 1., 1., 1.])\n",
      " array([2., 2., 2., 2., 2., 2., 2., 2., 1., 1., 1., 1., 1.])\n",
      " array([2., 2., 2., 2., 2., 2., 2., 2., 1., 1., 1., 1.])\n",
      " array([2., 2., 2., 2., 2., 2., 2., 2., 1., 1., 1., 1.])\n",
      " array([2., 2., 2., 2., 2., 2., 2., 2., 1., 1., 1., 1.])\n",
      " array([2., 2., 2., 2., 2., 2., 2., 2., 1., 1., 1., 1.])\n",
      " array([2., 2., 2., 2., 2., 2., 2., 2., 1., 1., 1., 1.])\n",
      " array([2., 2., 2., 2., 2., 2., 2., 2., 1., 1., 1., 1., 1.])\n",
      " array([2., 2., 2., 2., 2., 2., 2., 2., 1., 1., 1., 1.])\n",
      " array([2., 2., 2., 2., 2., 2., 2., 2., 2., 2.])\n",
      " array([2., 2., 2., 2., 2., 2., 2., 2., 2., 2., 1., 1.])\n",
      " array([2., 2., 2., 2., 2., 2., 2., 2., 2., 1., 1., 1., 1., 1., 1., 1., 1.,\n",
      "        2.])\n",
      " array([2., 2., 2., 2., 2., 2., 2., 2., 2., 1., 1., 1., 1.])\n",
      " array([2., 2., 2., 2., 2., 2., 2., 2., 2., 1.])\n",
      " array([2., 2., 2., 2., 2., 2., 2., 2., 2., 2.])\n",
      " array([2., 2., 2., 2., 2., 2., 2., 2., 2., 1., 1.])\n",
      " array([2., 2., 2., 2., 2., 2., 2., 2., 2., 1.])\n",
      " array([2., 2., 2., 2., 2., 2., 2., 2., 2., 1.])\n",
      " array([2., 2., 2., 2., 2., 2., 2., 2., 2., 1., 1., 1.])\n",
      " array([2., 2., 2., 2., 2., 2., 2., 2., 2., 2.])\n",
      " array([2., 2., 2., 2., 2., 2., 2., 2., 2., 2.])\n",
      " array([2., 2., 2., 2., 2., 2., 2., 2., 2.])\n",
      " array([2., 2., 2., 2., 2., 2., 2., 2., 2.])\n",
      " array([2., 2., 2., 2., 2., 2., 2., 2., 2.])\n",
      " array([2., 2., 2., 2., 2., 2., 2., 2., 2.])\n",
      " array([2., 2., 2., 2., 2., 2., 2., 2., 2.])\n",
      " array([2., 2., 2., 2., 2., 2., 2., 2., 2.])\n",
      " array([2., 2., 2., 2., 2., 2., 2., 2., 2.])\n",
      " array([2., 2., 2., 2., 2., 2., 2., 2., 2.])\n",
      " array([2., 2., 2., 2., 2., 2., 2., 2., 0., 0., 0., 0., 0., 0., 0., 0., 2.,\n",
      "        2., 2., 2., 2., 2., 2., 2., 2., 2., 2., 0., 0., 0., 0., 0., 0., 0.,\n",
      "        0., 0., 2., 2., 2., 2., 2., 2., 2., 2., 2., 2.])\n",
      " array([2., 2., 2., 2., 2., 2., 2., 2., 0., 0., 0., 0., 0., 0., 0., 0., 0.,\n",
      "        0., 0., 2., 2., 2., 2., 2., 2., 2., 2., 0., 0., 0., 0., 0., 0., 2.,\n",
      "        2., 2., 2., 2., 2., 2., 2.])\n",
      " array([2., 2., 2., 2., 2., 2., 2., 0., 0., 0., 0., 0., 0., 0., 2., 2., 2.,\n",
      "        2., 2., 2., 0., 0., 0., 0., 0., 0., 0., 0., 2., 2., 2., 2., 2., 2.,\n",
      "        2., 2., 2., 2., 2., 2.])\n",
      " array([2., 2., 2., 2., 2., 2., 2., 2., 0., 0., 0., 0., 0., 0., 0., 0., 0.,\n",
      "        0., 2., 2., 2., 2., 2., 2., 2., 0., 0., 0., 0., 0., 0., 0., 2., 2.,\n",
      "        2., 2., 2., 2., 2., 2.])\n",
      " array([2., 2., 2., 2., 2., 2., 2., 2., 0., 0., 0., 0., 0., 0., 0., 0., 0.,\n",
      "        2., 2., 2., 2., 2., 2., 2., 2., 2., 0., 0., 0., 0., 0., 0., 0., 0.,\n",
      "        2., 2., 2., 2., 2., 2., 2., 2.])\n",
      " array([2., 2., 2., 2., 2., 2., 2., 0., 0., 0., 0., 0., 0., 0., 0., 0., 2.,\n",
      "        2., 2., 2., 2., 2., 2., 2., 2., 0., 0., 0., 0., 0., 0., 0., 0., 0.,\n",
      "        2., 2., 2., 2., 2., 2., 2., 2.])\n",
      " array([2., 2., 2., 2., 2., 2., 2., 0., 0., 0., 0., 0., 0., 0., 0., 2., 2.,\n",
      "        2., 2., 2., 2., 2., 2., 2., 0., 0., 0., 0., 0., 0., 0., 0., 2., 2.,\n",
      "        2., 2., 2., 2., 2., 2., 2.])\n",
      " array([2., 2., 2., 2., 2., 2., 2., 0., 0., 0., 0., 0., 0., 0., 0., 0., 2.,\n",
      "        2., 2., 2., 2., 2., 2., 2., 2., 2., 0., 0., 0., 0., 0., 0., 0., 0.,\n",
      "        2., 2., 2., 2., 2., 2., 2.])\n",
      " array([2., 2., 2., 2., 2., 2., 2., 2., 2., 0., 0., 0., 0., 0., 0., 0., 0.,\n",
      "        0., 0., 0., 2., 2., 2., 2., 2., 2., 2., 2., 0., 0., 0., 0., 0., 0.,\n",
      "        2., 2., 2., 2., 2., 2., 2., 2., 2.])\n",
      " array([2., 2., 2., 2., 2., 2., 2., 0., 0., 0., 0., 0., 0., 0., 0., 0., 0.,\n",
      "        2., 2., 2., 2., 2., 2., 2., 2., 2., 2., 0., 0., 0., 0., 0., 0., 0.,\n",
      "        0., 2., 2., 2., 2., 2., 2., 2., 2.])\n",
      " array([2., 2., 2., 2., 2., 2., 2., 2., 2., 0., 0., 0., 0., 0., 0., 0., 0.,\n",
      "        0., 2., 2., 2., 2., 2., 2., 2., 2., 2.])\n",
      " array([2., 2., 2., 2., 2., 2., 2., 2., 2., 0., 0., 0., 0., 0., 0., 0., 0.,\n",
      "        0., 2., 2., 2., 2., 2., 2., 2., 2.])\n",
      " array([2., 2., 2., 2., 2., 2., 2., 2., 2., 0., 0., 0., 0., 0., 0., 0., 0.,\n",
      "        0., 0., 2., 2., 2., 2., 2., 2., 2., 2., 2.])\n",
      " array([2., 2., 2., 2., 2., 2., 2., 2., 0., 0., 0., 0., 0., 0., 0., 0., 2.,\n",
      "        2., 2., 2., 2., 2., 2., 2., 2., 2., 2.])\n",
      " array([2., 2., 2., 2., 2., 2., 2., 2., 2., 0., 0., 0., 0., 0., 0., 0., 0.,\n",
      "        0., 2., 2., 2., 2., 2., 2.])\n",
      " array([2., 2., 2., 2., 2., 2., 2., 2., 2., 2., 0., 0., 0., 0., 0., 0., 0.,\n",
      "        0., 0., 2., 2., 2., 2., 2., 2., 2., 2., 2.])\n",
      " array([2., 2., 2., 2., 2., 2., 2., 0., 0., 0., 0., 0., 0., 0., 0., 0., 0.,\n",
      "        2., 2., 2., 2., 2., 2., 2., 2., 2., 2.])\n",
      " array([2., 2., 2., 2., 2., 2., 2., 2., 2., 0., 0., 0., 0., 0., 0., 0., 0.,\n",
      "        2., 2., 2., 2., 2., 2., 2., 2.])\n",
      " array([2., 2., 2., 2., 2., 2., 2., 2., 2., 0., 0., 0., 0., 0., 0., 0., 0.,\n",
      "        0., 2., 2., 2., 2., 2., 2., 2., 2.])\n",
      " array([2., 2., 2., 2., 2., 2., 2., 0., 0., 0., 0., 0., 0., 0., 0., 0., 0.,\n",
      "        2., 2., 2., 2., 2., 2., 2., 2., 2., 2.])\n",
      " array([0., 1., 1., 2., 2., 2., 2., 2., 2., 2., 0., 0., 0., 0., 0., 0., 0.,\n",
      "        0., 0., 0., 1., 1., 1., 1.])\n",
      " array([0., 1., 1., 1., 1., 1., 2., 2., 2., 2., 2., 2., 2., 2., 0., 0., 0.,\n",
      "        0., 0., 0., 0., 0., 0., 0., 1., 1., 1.])\n",
      " array([2., 2., 2., 2., 2., 2., 2., 2., 2., 2., 0., 0., 0., 0., 0., 0., 0.,\n",
      "        0., 0., 1., 1., 1.])\n",
      " array([1., 1., 1., 1., 1., 1., 1., 2., 2., 2., 2., 2., 2., 2., 2., 0., 0.,\n",
      "        0., 0., 0., 0., 0., 0., 0., 0., 0., 0., 1.])\n",
      " array([1., 1., 1., 2., 2., 2., 2., 2., 2., 2., 0., 0., 0., 0., 0., 0., 0.,\n",
      "        0., 0., 1., 1., 0.])\n",
      " array([1., 1., 1., 2., 2., 2., 2., 2., 2., 2., 0., 0., 0., 0., 0., 0., 0.,\n",
      "        0., 0., 0., 1.])\n",
      " array([1., 1., 2., 2., 2., 2., 2., 2., 2., 2., 2., 0., 0., 0., 0., 0., 0.,\n",
      "        0., 0., 0., 0., 0.])\n",
      " array([1., 1., 1., 1., 2., 2., 2., 2., 2., 2., 0., 0., 0., 0., 0., 0., 0.,\n",
      "        0., 0., 0., 1., 1., 1.])\n",
      " array([1., 1., 2., 2., 2., 2., 2., 2., 2., 2., 0., 0., 0., 0., 0., 0., 0.,\n",
      "        0., 0., 0., 1., 1., 1.])\n",
      " array([1., 1., 1., 1., 1., 2., 2., 2., 2., 2., 2., 2., 0., 0., 0., 0., 0.,\n",
      "        0., 0., 0., 0., 0., 0., 0., 0., 1., 1., 1., 1., 1., 1., 1., 1., 1.])\n",
      " array([2., 2., 2., 2., 2., 2., 2., 0., 0., 0., 0., 0., 0., 0., 0., 0., 0.,\n",
      "        2., 2., 2., 2., 1., 1., 1.])\n",
      " array([2., 2., 2., 2., 2., 2., 0., 0., 0., 0., 0., 0., 0., 0., 0., 0., 2.,\n",
      "        2., 2., 2., 2., 1., 1., 1., 1.])\n",
      " array([2., 2., 2., 2., 2., 2., 2., 0., 0., 0., 0., 0., 0., 0., 0., 0., 0.,\n",
      "        2., 2., 2., 2., 2., 1., 1., 1.])\n",
      " array([2., 2., 2., 2., 2., 2., 2., 0., 0., 0., 0., 0., 0., 0., 0., 0., 0.,\n",
      "        2., 2., 2., 2., 1., 1., 1.])\n",
      " array([2., 2., 2., 2., 2., 2., 0., 0., 0., 0., 0., 0., 0., 0., 0., 2., 2.,\n",
      "        2., 2., 2., 1., 1., 1., 1.])\n",
      " array([2., 2., 2., 2., 2., 2., 2., 0., 0., 0., 0., 0., 0., 0., 0., 0., 0.,\n",
      "        0., 2., 2., 2., 2., 2., 1., 1.])\n",
      " array([2., 2., 2., 2., 2., 2., 2., 0., 0., 0., 0., 0., 0., 0., 0., 0., 0.,\n",
      "        2., 2., 2., 2., 1., 1., 1.])\n",
      " array([2., 2., 2., 2., 2., 0., 0., 0., 0., 0., 0., 0., 0., 0., 0., 2., 2.,\n",
      "        2., 2., 1., 1., 1.])\n",
      " array([2., 2., 2., 2., 2., 2., 2., 0., 0., 0., 0., 0., 0., 0., 0., 0., 0.,\n",
      "        2., 2., 2., 2., 2., 1., 1., 1.])\n",
      " array([2., 2., 2., 2., 2., 2., 2., 2., 0., 0., 0., 0., 0., 0., 0., 0., 0.,\n",
      "        0., 2., 2., 2., 2., 2., 2., 1., 1.])\n",
      " array([0., 1., 1., 1., 2., 2., 2., 0., 0., 2., 2., 2., 2., 2., 2., 2., 2.])\n",
      " array([1., 1., 1., 2., 2., 0., 0., 0., 2., 2., 2., 2., 2., 2., 2.])\n",
      " array([1., 1., 1., 2., 2., 2., 0., 0., 0., 0., 2., 2., 2., 2., 2., 2., 2.,\n",
      "        2.])\n",
      " array([1., 1., 1., 2., 2., 2., 0., 0., 0., 1., 2., 2., 2., 2., 2., 2., 2.,\n",
      "        2.])\n",
      " array([1., 1., 1., 2., 2., 0., 0., 2., 2., 2., 2., 2., 2., 2., 2., 2.])\n",
      " array([1., 1., 1., 2., 2., 0., 0., 0., 0., 2., 2., 2., 2., 2., 2., 2., 2.])\n",
      " array([1., 1., 1., 2., 2., 0., 0., 0., 2., 2., 2., 2., 2., 2., 2., 2., 2.])\n",
      " array([1., 1., 1., 1., 2., 2., 2., 0., 0., 0., 1., 2., 2., 2., 2., 2., 2.,\n",
      "        2., 2.])\n",
      " array([1., 1., 1., 1., 2., 2., 0., 0., 0., 2., 2., 2., 2., 2., 2., 2., 2.])\n",
      " array([0., 1., 1., 1., 2., 2., 2., 0., 0., 2., 2., 2., 2., 2., 2., 2., 2.])\n",
      " array([2., 2., 2., 2., 2., 2., 0., 0., 0., 0., 0., 0., 0., 0., 0., 0., 2.,\n",
      "        2., 0., 0., 0.])\n",
      " array([2., 2., 2., 2., 2., 2., 2., 0., 0., 0., 0., 0., 0., 0., 0., 0., 0.,\n",
      "        0., 0., 0., 0., 0., 0., 0.])\n",
      " array([2., 2., 2., 2., 2., 2., 0., 0., 0., 0., 0., 0., 0., 0., 0., 0., 0.,\n",
      "        0., 0.])\n",
      " array([2., 2., 2., 2., 2., 2., 2., 2., 2., 0., 0., 0., 0., 0., 0., 0., 0.,\n",
      "        0., 0., 0., 0., 0., 2., 2., 2., 2., 2.])\n",
      " array([2., 2., 2., 2., 2., 2., 2., 0., 0., 0., 0., 0., 0., 0., 0., 0., 0.,\n",
      "        0., 0., 0., 0.])\n",
      " array([2., 2., 2., 2., 2., 2., 2., 2., 0., 0., 0., 0., 0., 1., 1., 0., 0.,\n",
      "        0., 0., 0., 0., 0., 0., 0.])\n",
      " array([2., 2., 2., 2., 2., 2., 2., 2., 2., 0., 0., 0., 0., 0., 0., 0., 0.,\n",
      "        0., 0., 0., 0., 0., 0., 0.])\n",
      " array([2., 2., 2., 2., 2., 2., 2., 2., 2., 1., 1., 0., 0., 0., 0., 0., 0.,\n",
      "        0., 0., 0., 0., 0., 0., 0.])\n",
      " array([2., 2., 2., 2., 2., 2., 2., 2., 2., 0., 0., 0., 0., 0., 0., 0., 0.,\n",
      "        0., 0., 0., 0.])\n",
      " array([2., 2., 2., 2., 2., 2., 2., 0., 0., 0., 0., 0., 0., 0., 0., 0., 0.,\n",
      "        0., 0., 0., 0.])\n",
      " array([1., 1., 1., 1., 2., 2., 2., 2., 2., 2., 2., 2., 1., 1., 1.])\n",
      " array([1., 1., 1., 1., 1., 2., 2., 2., 2., 2., 2., 2., 2., 2., 2., 1., 1.,\n",
      "        1.])\n",
      " array([1., 1., 1., 2., 2., 2., 2., 2., 2., 2., 1., 1., 1.])\n",
      " array([2., 1., 1., 1., 1., 2., 2., 2., 0., 2., 2., 2., 2., 2., 1., 1., 1.])\n",
      " array([1., 1., 2., 2., 2., 2., 2., 2., 2., 2., 1., 1., 1.])\n",
      " array([1., 1., 1., 1., 2., 2., 2., 2., 2., 0., 0., 2., 2., 2., 2., 1., 1.,\n",
      "        1.])\n",
      " array([1., 1., 1., 1., 1., 2., 2., 2., 2., 2., 2., 2., 2., 1., 1., 1., 1.])\n",
      " array([1., 1., 1., 1., 1., 2., 2., 2., 2., 2., 2., 2., 2., 1., 1.])\n",
      " array([1., 1., 1., 1., 1., 1., 2., 2., 2., 2., 2., 2., 2., 2., 2., 2., 2.,\n",
      "        1., 1., 1., 1., 1.])\n",
      " array([1., 1., 1., 1., 1., 2., 2., 0., 0., 0., 2., 2., 2., 2., 2., 1., 1.,\n",
      "        1., 1., 1., 1.])\n",
      " array([2., 2., 2., 2., 2.]) array([2., 2., 2., 2., 2.])\n",
      " array([2., 2., 2., 2., 2., 2., 2.]) array([2., 2., 2., 2., 2., 2.])\n",
      " array([2., 2., 2., 2., 2., 2., 2.]) array([2., 2., 2., 2., 2., 2., 2.])\n",
      " array([2., 2., 2., 2., 2.]) array([2., 2., 2., 2., 2., 2.])\n",
      " array([2., 2., 2., 2., 2., 2.]) array([2., 2., 2., 2., 2., 2.])\n",
      " array([2., 2., 2., 2., 2., 2., 2., 2., 2., 2., 2., 2., 0., 0., 0., 0., 0.,\n",
      "        0., 0., 0.])\n",
      " array([2., 2., 2., 2., 2., 2., 2., 2., 2., 0., 0., 0., 0., 0., 0., 0., 0.,\n",
      "        0., 0., 0.])\n",
      " array([2., 2., 2., 2., 2., 2., 2., 2., 2., 2., 2., 0., 0., 0., 0., 0., 0.,\n",
      "        0., 0.])\n",
      " array([2., 2., 2., 2., 2., 2., 2., 2., 2., 2., 2., 0., 0., 0., 0., 0., 0.,\n",
      "        0., 0., 0., 0., 0.])\n",
      " array([2., 2., 2., 2., 2., 2., 2., 2., 2., 2., 2., 0., 0., 0., 0., 0., 0.,\n",
      "        0., 0., 0., 0., 0., 0.])\n",
      " array([2., 2., 2., 2., 2., 2., 2., 2., 2., 2., 0., 0., 0., 0., 0., 0., 0.,\n",
      "        0., 0., 0.])\n",
      " array([2., 2., 2., 2., 2., 2., 2., 2., 2., 2., 0., 0., 0., 0., 0., 0., 0.,\n",
      "        0., 0., 0.])\n",
      " array([2., 2., 2., 2., 2., 2., 2., 2., 2., 0., 0., 0., 0., 0., 0., 0., 0.])\n",
      " array([2., 2., 2., 2., 2., 2., 2., 2., 0., 0., 0., 0., 0., 0., 0., 0., 0.,\n",
      "        0., 0., 0.])\n",
      " array([2., 2., 2., 2., 2., 2., 2., 0., 0., 0., 0., 0., 0., 0., 0., 0., 0.,\n",
      "        0., 0.])\n",
      " array([2., 2., 2., 2., 2., 2., 2., 2., 0., 0., 0., 0., 0., 0., 0., 0., 0.,\n",
      "        0.])\n",
      " array([2., 2., 2., 2., 2., 2., 2., 0., 0., 0., 0., 0., 0., 0., 0., 0., 0.])\n",
      " array([2., 2., 2., 2., 2., 2., 2., 0., 0., 0., 0., 0., 0., 0., 0., 0., 0.])\n",
      " array([2., 2., 2., 2., 2., 2., 2., 2., 0., 0., 0., 0., 0., 0., 0., 0., 0.,\n",
      "        0., 0.])\n",
      " array([2., 2., 2., 2., 2., 2., 2., 2., 0., 0., 0., 0., 0., 0., 0., 0., 0.,\n",
      "        0.])\n",
      " array([2., 2., 2., 2., 2., 2., 2., 2., 2., 0., 0., 0., 0., 0., 0., 0., 0.,\n",
      "        0., 0., 0.])\n",
      " array([2., 2., 2., 2., 2., 2., 2., 0., 0., 0., 0., 0., 0., 0., 0., 0., 0.,\n",
      "        0.])\n",
      " array([2., 2., 2., 2., 2., 2., 2., 0., 0., 0., 0., 0., 0., 0., 0., 0., 0.])\n",
      " array([2., 2., 2., 2., 2., 2., 2., 2., 0., 0., 0., 0., 0., 0., 0., 0., 0.,\n",
      "        0.])\n",
      " array([2., 2., 2., 2., 2., 2., 2., 0., 0., 0., 0., 0., 0., 0., 0., 0., 0.])\n",
      " array([2., 2., 2., 2., 2., 2., 2., 2., 2., 0., 0., 0., 0., 0., 0., 0., 0.,\n",
      "        2., 2., 2., 2., 2., 2., 0., 0., 0., 0., 0., 0., 0., 0.])\n",
      " array([2., 2., 2., 2., 2., 2., 2., 2., 0., 0., 0., 0., 0., 0., 0., 0., 0.,\n",
      "        2., 2., 2., 2., 2., 2., 2., 2., 0., 0., 0., 0., 0., 0., 0., 0., 0.,\n",
      "        0., 0.])\n",
      " array([2., 2., 2., 2., 2., 2., 2., 2., 0., 0., 0., 0., 0., 0., 0., 0., 0.,\n",
      "        2., 2., 2., 2., 2., 2., 2., 2., 2., 0., 0., 0., 0., 0., 0., 0., 0.,\n",
      "        0., 0., 0.])\n",
      " array([2., 2., 2., 2., 2., 2., 2., 2., 2., 0., 0., 0., 0., 0., 0., 0., 0.,\n",
      "        0., 2., 2., 2., 2., 2., 2., 2., 2., 0., 0., 0., 0.])\n",
      " array([2., 2., 2., 2., 2., 2., 2., 2., 0., 0., 0., 0., 0., 0., 0., 0., 2.,\n",
      "        2., 2., 2., 2., 2., 2., 2., 0., 0., 0., 0., 0., 0., 0., 0., 0., 0.,\n",
      "        0.])\n",
      " array([2., 2., 2., 2., 2., 2., 2., 2., 2., 0., 0., 0., 0., 0., 0., 0., 0.,\n",
      "        0., 0., 2., 2., 2., 2., 2., 2., 2., 2., 0., 0., 0., 0., 0., 0., 0.])\n",
      " array([2., 2., 2., 2., 2., 2., 2., 2., 2., 0., 0., 0., 0., 0., 0., 0., 0.,\n",
      "        0., 2., 2., 2., 2., 2., 2., 2., 0., 0., 0., 0., 0., 0., 0., 0.])\n",
      " array([2., 2., 2., 2., 2., 2., 2., 2., 2., 0., 0., 0., 0., 0., 0., 0., 0.,\n",
      "        0., 0., 0., 2., 2., 2., 2., 2., 2., 2., 2., 2., 0., 0., 0., 0., 0.,\n",
      "        0., 0., 0., 0.])\n",
      " array([2., 2., 2., 2., 2., 2., 2., 2., 2., 0., 0., 0., 0., 0., 0., 0., 0.,\n",
      "        0., 0., 2., 2., 2., 2., 2., 2., 2., 2., 2., 0., 0., 0., 0., 0., 0.,\n",
      "        0., 0., 0., 0.])\n",
      " array([2., 2., 2., 2., 2., 2., 2., 2., 2., 0., 0., 0., 0., 0., 0., 0., 2.,\n",
      "        2., 2., 2., 2., 2., 2., 2., 2., 0., 0., 0., 0., 0., 0., 0., 0., 0.,\n",
      "        0.])\n",
      " array([2., 2., 2., 2., 2., 2., 2., 2., 2.])\n",
      " array([2., 2., 2., 2., 2., 2., 2., 2., 2., 2., 2.])\n",
      " array([2., 2., 2., 2., 2., 2.])\n",
      " array([2., 2., 2., 2., 2., 2., 2., 2., 2.])\n",
      " array([2., 2., 2., 2., 2., 2., 2.])\n",
      " array([2., 2., 2., 2., 2., 2., 2., 2.])\n",
      " array([2., 2., 2., 2., 2., 2., 2., 2., 2., 2.])\n",
      " array([2., 2., 2., 2., 2., 2., 2., 2., 2.])\n",
      " array([2., 2., 2., 2., 2., 2., 2., 2., 2., 2., 2.])\n",
      " array([2., 2., 2., 2., 2., 2.])\n",
      " array([2., 0., 0., 0., 2., 2., 2., 2., 2., 2., 2., 2., 2., 2.])\n",
      " array([2., 2., 2., 2., 2., 0., 0., 0., 0., 2., 2., 2., 2., 2., 2., 2., 2.,\n",
      "        2.])\n",
      " array([2., 2., 2., 2., 0., 0., 0., 2., 2., 2., 2., 2., 2., 2., 2., 2.])\n",
      " array([2., 2., 2., 2., 0., 0., 0., 0., 1., 2., 2., 2., 2., 2., 2., 2., 2.,\n",
      "        2.])\n",
      " array([2., 2., 2., 0., 0., 2., 2., 2., 2., 2., 2., 2., 2., 2.])\n",
      " array([2., 2., 2., 0., 0., 2., 2., 2., 2., 2., 2., 2., 2.])\n",
      " array([2., 2., 0., 0., 0., 2., 2., 2., 2., 2., 2., 2., 2., 2.])\n",
      " array([2., 2., 2., 0., 0., 0., 2., 2., 2., 2., 2., 2., 2., 2.])\n",
      " array([2., 2., 2., 0., 0., 0., 2., 2., 2., 2., 2., 2., 2., 2., 2.])\n",
      " array([2., 2., 2., 0., 0., 0., 2., 2., 2., 2., 2., 2., 2., 2., 2., 2.])\n",
      " array([0., 0., 0., 0., 0., 0., 0., 0., 2., 1., 1., 1., 1., 1., 1., 1., 1.,\n",
      "        1., 2., 2., 0., 0., 0., 0., 0., 0., 0., 0.])\n",
      " array([0., 0., 0., 0., 0., 0., 2., 2., 2., 2., 2., 1., 2., 2., 2., 2., 2.,\n",
      "        0., 0., 0., 0., 0., 0., 0.])\n",
      " array([0., 0., 0., 0., 0., 2., 2., 2., 2., 1., 1., 1., 1., 2., 2., 2., 2.,\n",
      "        2., 2., 0., 0., 0., 0., 0., 0., 0.])\n",
      " array([0., 0., 0., 0., 0., 0., 0., 2., 2., 2., 1., 1., 1., 1., 1., 1., 1.,\n",
      "        1., 2., 2., 0., 0., 0., 0., 0., 0.])\n",
      " array([0., 0., 2., 2., 0., 0., 0., 2., 1., 1., 2., 2., 1., 1., 2., 2., 2.,\n",
      "        2., 2., 0., 0., 0., 0.])\n",
      " array([0., 0., 0., 0., 0., 0., 0., 2., 2., 2., 2., 1., 1., 1., 1., 1., 1.,\n",
      "        1., 2., 2., 2., 0., 0., 0., 0., 0., 0., 0.])\n",
      " array([0., 0., 0., 0., 0., 0., 0., 2., 2., 2., 2., 2., 1., 1., 1., 1., 2.,\n",
      "        2., 2., 2., 0., 0., 0., 2., 0., 0.])\n",
      " array([0., 0., 0., 0., 0., 0., 2., 2., 1., 2., 1., 1., 1., 1., 1., 2., 2.,\n",
      "        2., 2., 0., 0., 0., 0., 0., 0., 0., 0., 0.])\n",
      " array([0., 0., 0., 0., 0., 0., 2., 2., 2., 1., 1., 1., 1., 1., 1., 2., 2.,\n",
      "        2., 2., 2., 0., 0., 0., 0., 0.])\n",
      " array([0., 0., 0., 2., 2., 2., 2., 2., 2., 2., 1., 2., 1., 1., 1., 1., 1.,\n",
      "        2., 2., 2., 0., 0., 0., 0., 0., 2., 2.])                           ]\n"
     ]
    }
   ],
   "source": [
    "def discretise(x, d):\n",
    "    intervalle = 360 / d\n",
    "    return np.asarray([np.floor(xi / intervalle) for xi in x], dtype=object)\n",
    "\n",
    "print(discretise(X, 3))\n"
   ]
  },
  {
   "cell_type": "markdown",
   "metadata": {},
   "source": [
    "**VALIDATION :** code du premier signal avec une discrétisation sur 3 états:\n",
    "```python\n",
    "array([ 0.,  2.,  2.,  2.,  2.,  2.,  2.,  2.,  1.,  1.,  1.,  1., 1., 1., 2., 2.,  2.,\n",
    "       2.,  0.,  0.,  0.,  0.,  0.])\n",
    "```"
   ]
  },
  {
   "cell_type": "markdown",
   "metadata": {},
   "source": [
    "### A2. Regrouper les indices des signaux par classe (pour faciliter l'apprentissage)"
   ]
  },
  {
   "cell_type": "code",
   "execution_count": 28,
   "metadata": {},
   "outputs": [],
   "source": [
    "def groupByLabel(y):\n",
    "    index = []\n",
    "    for i in np.unique(y): # pour toutes les classes\n",
    "        ind, = np.where(y == i)\n",
    "        index.append(ind)\n",
    "    return index"
   ]
  },
  {
   "cell_type": "markdown",
   "metadata": {},
   "source": [
    "Cette méthode produit simplement une structure type:\n",
    "```python\n",
    "[array([ 0,  1,  2,  3,  4,  5,  6,  7,  8,  9, 10]),\n",
    " array([11, 12, 13, 14, 15, 16, 17, 18, 19, 20, 21]),\n",
    " array([22, 23, 24, 25, 26, 27, 28, 29, 30, 31, 32]),\n",
    " array([33, 34, 35, 36, 37, 38, 39, 40, 41, 42, 43]),\n",
    " array([44, 45, 46, 47, 48, 49, 50, 51, 52, 53, 54]),\n",
    " array([55, 56, 57, 58, 59, 60, 61, 62, 63, 64, 65]),\n",
    " ...\n",
    "```\n",
    "Chaque ligne regroupe les indices de signaux correspondant à une classe. Il y a donc 11 exemples de 'a'."
   ]
  },
  {
   "cell_type": "markdown",
   "metadata": {},
   "source": [
    "### A3. Apprendre les modèles CM\n",
    "\n",
    "Soit {$X_C$} la base de signaux discrétisés correspondant à une classe {$C$} et {$d$} le nombre d'états. Donner le code de la fonction `learnMarkovModel(Xc, d)` qui retourne un tuple contenant Pi et A.\n",
    "\n",
    "Rappel:\n",
    "- Initialisation de \n",
    "```python\n",
    " A = np.zeros((d, d))\n",
    " Pi = np.zeros(d)\n",
    " ```\n",
    "- Parcours de tous les signaux et incréments de A et Pi\n",
    "- Normalisation (un peu réfléchie pour éviter les divisions par 0)\n",
    "```python\n",
    "A = A / np.maximum(A.sum(1).reshape(d, 1), 1) # normalisation\n",
    "Pi = Pi / Pi.sum()\n",
    "```\n",
    "\n",
    "**Note** : la solution proposée pour gérer le cas des lignes entièrement à 0 est naïve et n'est pas totalement satisfaisante. Comprendre pourquoi. On proposera une solution améliorée plus loin dans le TME. "
   ]
  },
  {
   "cell_type": "code",
   "execution_count": 29,
   "metadata": {},
   "outputs": [],
   "source": [
    "def initMarkov(d):\n",
    "    A = np.zeros((d, d))\n",
    "    Pi = np.zeros(d)\n",
    "    return A, Pi\n",
    "\n",
    "\n",
    "def learnMarkovModel(Xc, d):\n",
    "    A, Pi = initMarkov(d)\n",
    "    for x in Xc:\n",
    "        x = x.astype(int)\n",
    "        Pi[x[0]] += 1\n",
    "        for i in range(len(x) - 1):\n",
    "            A[x[i], x[i + 1]] += 1\n",
    "    Pi = Pi / np.sum(Pi)\n",
    "    A = A / np.maximum(A.sum(1).reshape(d, 1), 1)\n",
    "\n",
    "    return Pi, A\n"
   ]
  },
  {
   "cell_type": "markdown",
   "metadata": {},
   "source": [
    "**Validation :** premier modèle avec une discrétisation sur 3 états :\n",
    "```python\n",
    "(array([ 0.36363636,  0.        ,  0.63636364]),\n",
    " array([[ 0.84444444,  0.06666667,  0.08888889],\n",
    "       [ 0.        ,  0.83333333,  0.16666667],\n",
    "       [ 0.11382114,  0.06504065,  0.82113821]]))\n",
    "```"
   ]
  },
  {
   "cell_type": "markdown",
   "metadata": {},
   "source": [
    "### A4. Stocker les modèles dans une liste\n",
    "\n",
    "Pour un usage ultérieur plus facile, on utilise le code suivant :"
   ]
  },
  {
   "cell_type": "code",
   "execution_count": 30,
   "metadata": {},
   "outputs": [
    {
     "name": "stdout",
     "output_type": "stream",
     "text": [
      "[[0.84444444 0.06666667 0.08888889]\n",
      " [0.         0.83333333 0.16666667]\n",
      " [0.11382114 0.06504065 0.82113821]]\n",
      "[0.36363636 0.         0.63636364]\n"
     ]
    }
   ],
   "source": [
    "d = 3                # paramètre de discrétisation\n",
    "\n",
    "Xd = discretise(X, d)    # application de la discrétisation\n",
    "index = groupByLabel(Y)   # groupement des signaux par classe\n",
    "models = []\n",
    "for cl in range(len(np.unique(Y))): # parcours de toutes les classes et optimisation des modèles\n",
    "    models.append(learnMarkovModel(Xd[index[cl]], d))\n",
    "\n",
    "\n",
    "print(models[0][1]) # affichage de la matrice de transition du modèle du 'a'\n",
    "print(models[0][0]) # affichage du vecteur initial du modèle du 'a'"
   ]
  },
  {
   "cell_type": "markdown",
   "metadata": {},
   "source": [
    "### A5. Distribution stationnaire\n",
    "\n",
    "La distribution stationnaire $\\mu$, pour un système ergodique, correspond à:\n",
    "\n",
    "- la distribution des états observés dans l'ensemble des données\n",
    "- la distribution obtenu après un grand nombre de passage dans $A$ à partir de n'importe quelle distribution ou état d'origine (une matrice de transition ergodique va nous permettre de converger)\n",
    "- la solution de l'équation de stabilité: $\\mu = \\mu A$\n",
    "\n",
    "Dans le cas de la lettre 'a' et d'une discrétisation en 3 états, calculer la distribution stationnaire par les deux première méthode et vérifier que vous obtenez des résultats similaires.\n",
    "\n",
    "**Note 1:** pour la marche aléatoire, vous construirez une boucle sur 100 iérations (borne sup) et vous sortirez dès que la somme des écarts (en absolu) entre $\\mu_t$ et $\\mu_{t+1}$ est inférieure à $10^{-3}$. Vous vérifierez ensuite que le système converge quelque soit l'état de départ (3 appel àla fonction) ou avec une initialisation aléatoire.\n",
    "\n",
    "**Note 2:** les deux approches, bien que reposant sur les mêmes données, vont donner des solutions différentes. En effet, il n'y a que peu d'observations et le premier calcul repose sur les états alors que le second repose sur les transitions. \n",
    "Afin de vérifier l'exactitude de votre code, vous pourrez revenir sur cette question en fin de sujet avec le protocole suivant:\n",
    "1. utiliser la matrice de transition de 'a' pour générer une séquence de longeur 100000\n",
    "1. faire les statistiques des états (à l'aide d'un ```Counter``` par exemple)\n",
    "1. vérifier la convergence sur de longues séquences"
   ]
  },
  {
   "cell_type": "code",
   "execution_count": 31,
   "metadata": {},
   "outputs": [
    {
     "name": "stdout",
     "output_type": "stream",
     "text": [
      "[0.30586544 0.28144946 0.41268509]\n"
     ]
    }
   ],
   "source": [
    "def distribution_stationnaire(Pi,A,iter_max=1000):\n",
    "    Pi = Pi.copy()\n",
    "    eps = 1e-3\n",
    "    for i in range(iter_max):\n",
    "        Pi_new = Pi @ A\n",
    "        if np.linalg.norm(Pi_new - Pi) < eps:\n",
    "            return Pi_new\n",
    "        Pi = Pi_new\n",
    "    return Pi\n",
    "\n",
    "print(distribution_stationnaire(models[0][0], models[0][1]))"
   ]
  },
  {
   "cell_type": "markdown",
   "metadata": {},
   "source": [
    "##  B. Test (affectation dans les classes sur critère MV)\n",
    "### B1. (log)Probabilité d'une séquence dans un modèle\n",
    "\n",
    "Donner le code de la méthode `probaSequence(s,Pi,A)` qui retourne la log-probabilité d'une séquence `s` dans le modèle {$\\lambda=\\{Pi,A\\}$} "
   ]
  },
  {
   "cell_type": "code",
   "execution_count": 32,
   "metadata": {},
   "outputs": [
    {
     "name": "stdout",
     "output_type": "stream",
     "text": [
      "[-13.491085999932634, -inf, -inf, -inf, -inf, -inf, -inf, -inf, -inf, -inf, -inf, -inf, -inf, -inf, -inf, -inf, -inf, -inf, -inf, -inf, -inf, -inf, -inf, -inf, -inf, -12.482856781808644]\n"
     ]
    },
    {
     "name": "stderr",
     "output_type": "stream",
     "text": [
      "/var/folders/rg/dd7xvnms5q72qf02psgkl7400000gn/T/ipykernel_1944/3131625227.py:5: RuntimeWarning: divide by zero encountered in log\n",
      "  p = np.log(Pi[s[0]])\n",
      "/var/folders/rg/dd7xvnms5q72qf02psgkl7400000gn/T/ipykernel_1944/3131625227.py:7: RuntimeWarning: divide by zero encountered in log\n",
      "  p += np.log(A[s[i], s[i + 1]])\n"
     ]
    }
   ],
   "source": [
    "def probaSequence(s, Pi, A):\n",
    "    if s.size == 0:\n",
    "        return 0\n",
    "    s = s.astype(int)\n",
    "    p = np.log(Pi[s[0]])\n",
    "    for i in range(len(s) - 1):\n",
    "        p += np.log(A[s[i], s[i + 1]])\n",
    "    return p\n",
    "\n",
    "print([probaSequence(discretise(X[0], 3), m[0], m[1]) for m in models])"
   ]
  },
  {
   "cell_type": "markdown",
   "metadata": {},
   "source": [
    "**VALIDATION :** probabilité du premier signal dans les 26 modèles avec une discrétisation sur 3 états :\n",
    "```python\n",
    "array([-13.491086  ,         -inf,         -inf,         -inf,\n",
    "               -inf,         -inf,         -inf,         -inf,\n",
    "               -inf,         -inf,         -inf,         -inf,\n",
    "               -inf,         -inf,         -inf,         -inf,\n",
    "               -inf,         -inf,         -inf,         -inf,\n",
    "               -inf,         -inf,         -inf,         -inf,\n",
    "               -inf, -12.48285678])\n",
    "```\n",
    "\n",
    "- Ce signal est-il bien classé ?\n",
    "- D'où viennent tous les `-inf` ? "
   ]
  },
  {
   "cell_type": "markdown",
   "metadata": {},
   "source": [
    "### B2. Application de la méthode précédente pour tous les signaux et tous les modèles de lettres\n",
    "\n",
    "L'application se fait en une ligne de code si vous avez respecté les spécifications précédentes : "
   ]
  },
  {
   "cell_type": "code",
   "execution_count": 33,
   "metadata": {},
   "outputs": [
    {
     "name": "stdout",
     "output_type": "stream",
     "text": [
      "[[-13.491086   -10.38325849 -10.70816592 ... -18.3696345  -13.74527613\n",
      "  -20.59178751]\n",
      " [        -inf         -inf         -inf ...         -inf         -inf\n",
      "          -inf]\n",
      " [        -inf         -inf         -inf ...         -inf         -inf\n",
      "          -inf]\n",
      " ...\n",
      " [        -inf         -inf         -inf ...         -inf         -inf\n",
      "          -inf]\n",
      " [        -inf         -inf         -inf ...         -inf         -inf\n",
      "          -inf]\n",
      " [-12.48285678         -inf         -inf ... -14.76870842 -11.9972425\n",
      "  -17.91075189]]\n"
     ]
    },
    {
     "name": "stderr",
     "output_type": "stream",
     "text": [
      "/var/folders/rg/dd7xvnms5q72qf02psgkl7400000gn/T/ipykernel_1944/3131625227.py:5: RuntimeWarning: divide by zero encountered in log\n",
      "  p = np.log(Pi[s[0]])\n",
      "/var/folders/rg/dd7xvnms5q72qf02psgkl7400000gn/T/ipykernel_1944/3131625227.py:7: RuntimeWarning: divide by zero encountered in log\n",
      "  p += np.log(A[s[i], s[i + 1]])\n"
     ]
    }
   ],
   "source": [
    "proba = np.array(\n",
    "    [\n",
    "        [probaSequence(Xd[i], models[cl][0], models[cl][1]) for i in range(len(Xd))]\n",
    "        for cl in range(len(np.unique(Y)))\n",
    "    ]\n",
    ")\n",
    "print(proba)\n"
   ]
  },
  {
   "cell_type": "markdown",
   "metadata": {},
   "source": [
    "### B3. Evaluation des performances\n",
    "\n",
    "Pour l'évaluation, nous proposons l'approche suivante: "
   ]
  },
  {
   "cell_type": "code",
   "execution_count": 37,
   "metadata": {},
   "outputs": [
    {
     "data": {
      "text/plain": [
       "0.6902985074626866"
      ]
     },
     "execution_count": 37,
     "metadata": {},
     "output_type": "execute_result"
    }
   ],
   "source": [
    "# calcul d'une version numérique des Y :\n",
    "Ynum = np.zeros(Y.shape)\n",
    "for num, char in enumerate(np.unique(Y)):\n",
    "    Ynum[Y == char] = num\n",
    "\n",
    "def evaluation(Ynum, proba):\n",
    "    # Calcul de la classe la plus probable :\n",
    "    pred = proba.argmax(0)  # max colonne par colonne\n",
    "\n",
    "    # Calcul d'un pourcentage de bonne classification :\n",
    "    return np.where(pred != Ynum, 0.0, 1.0).mean()\n",
    "\n",
    "\n",
    "evaluation(Ynum, proba)\n"
   ]
  },
  {
   "cell_type": "markdown",
   "metadata": {},
   "source": [
    "**INDICE DE PERFORMANCE :** 91% de bonne classification avec 20 états, 69% avec 3 états"
   ]
  },
  {
   "cell_type": "markdown",
   "metadata": {},
   "source": [
    "## C. Biais d'évaluation, notion de sur-apprentissage\n",
    "\n",
    "Dans le protocole précédent, nous avons triché:\n",
    "- les données servent d'abord à apprendre les modèles...\n",
    "- puis nous nous servons des mêmes données pour tester les modèles ! Les performances sont forcément bonnes ! \n",
    "\n",
    "Afin de palier le problème, nous allons diviser en deux la base de données: une partie servira à l'apprentissage des modèles, l'autre à leur évaluation. Pour effectuer la division, nous fournissons le code suivant: "
   ]
  },
  {
   "cell_type": "code",
   "execution_count": 13,
   "metadata": {},
   "outputs": [],
   "source": [
    "# separation app/test, pc=ratio de points en apprentissage\n",
    "def separeTrainTest(y, pc):\n",
    "    indTrain = []\n",
    "    indTest = []\n",
    "    for i in np.unique(y): # pour toutes les classes\n",
    "        ind, = np.where(y == i)\n",
    "        n = len(ind)\n",
    "        indTrain.append(ind[np.random.permutation(n)][:int(np.floor(pc * n))])\n",
    "        indTest.append(np.setdiff1d(ind, indTrain[-1]))\n",
    "    return indTrain, indTest\n",
    "\n",
    "# exemple d'utilisation\n",
    "itrain, itest = separeTrainTest(Y, 0.8)"
   ]
  },
  {
   "cell_type": "markdown",
   "metadata": {},
   "source": [
    "dans `itrain`, nous obtenons les indices des signaux qui doivent servir en apprentissage pour chaque classe :"
   ]
  },
  {
   "cell_type": "code",
   "execution_count": 14,
   "metadata": {},
   "outputs": [
    {
     "name": "stdout",
     "output_type": "stream",
     "text": [
      "[array([ 5,  8,  2,  4,  1,  6,  9, 10]), array([19, 20, 16, 13, 14, 18, 17, 21]), array([24, 30, 27, 29, 31, 28, 22, 25]), array([42, 37, 34, 43, 38, 40, 39, 35]), array([47, 50, 46, 51, 45, 48, 52, 44]), array([59, 65, 55, 57, 64, 58, 63, 62]), array([76, 66, 74, 73, 75, 68, 71, 70]), array([79, 87, 83, 85, 81, 84, 78, 82]), array([88, 90, 93, 89, 91, 97, 96, 94]), array([ 98, 105, 101, 104, 106, 102, 107, 100]), array([113, 110, 115, 108, 112, 116, 117, 111]), array([120, 119, 118, 124, 121, 125, 126, 127]), array([135, 136, 129, 132, 130, 133, 128, 131]), array([143, 144, 142, 138, 145, 147, 141, 140]), array([154, 153, 150, 156, 152, 149, 155, 151]), array([158, 167, 164, 159, 163, 162, 161, 160]), array([169, 173, 175, 174, 168, 170, 177, 172]), array([184, 180, 185, 178, 179, 183, 182, 187]), array([194, 195, 188, 190, 197, 189, 196, 192]), array([201, 204, 200, 205, 199, 198, 207, 206]), array([211, 217, 209, 215, 210, 216, 208, 212]), array([226, 221, 223, 225, 220, 224, 219, 227]), array([231, 232, 234, 236, 233, 230, 237, 228]), array([238, 240, 245, 247, 246, 239, 244, 243]), array([254, 253, 252, 249, 257, 256, 255, 250]), array([261, 262, 260, 263, 264, 258, 259, 267])]\n"
     ]
    }
   ],
   "source": [
    "print(itrain)"
   ]
  },
  {
   "cell_type": "markdown",
   "metadata": {},
   "source": [
    "**Note :** pour faciliter l'évaluation des modèles, vous aurez besoin de re-fusionner tous les indices d'apprentissage et de test. Cela se fait avec les lignes de code suivantes : "
   ]
  },
  {
   "cell_type": "code",
   "execution_count": 15,
   "metadata": {},
   "outputs": [
    {
     "name": "stdout",
     "output_type": "stream",
     "text": [
      "[5, 8, 2, 4, 1, 6, 9, 10, 19, 20, 16, 13, 14, 18, 17, 21, 24, 30, 27, 29, 31, 28, 22, 25, 42, 37, 34, 43, 38, 40, 39, 35, 47, 50, 46, 51, 45, 48, 52, 44, 59, 65, 55, 57, 64, 58, 63, 62, 76, 66, 74, 73, 75, 68, 71, 70, 79, 87, 83, 85, 81, 84, 78, 82, 88, 90, 93, 89, 91, 97, 96, 94, 98, 105, 101, 104, 106, 102, 107, 100, 113, 110, 115, 108, 112, 116, 117, 111, 120, 119, 118, 124, 121, 125, 126, 127, 135, 136, 129, 132, 130, 133, 128, 131, 143, 144, 142, 138, 145, 147, 141, 140, 154, 153, 150, 156, 152, 149, 155, 151, 158, 167, 164, 159, 163, 162, 161, 160, 169, 173, 175, 174, 168, 170, 177, 172, 184, 180, 185, 178, 179, 183, 182, 187, 194, 195, 188, 190, 197, 189, 196, 192, 201, 204, 200, 205, 199, 198, 207, 206, 211, 217, 209, 215, 210, 216, 208, 212, 226, 221, 223, 225, 220, 224, 219, 227, 231, 232, 234, 236, 233, 230, 237, 228, 238, 240, 245, 247, 246, 239, 244, 243, 254, 253, 252, 249, 257, 256, 255, 250, 261, 262, 260, 263, 264, 258, 259, 267] [0, 3, 7, 11, 12, 15, 23, 26, 32, 33, 36, 41, 49, 53, 54, 56, 60, 61, 67, 69, 72, 77, 80, 86, 92, 95, 99, 103, 109, 114, 122, 123, 134, 137, 139, 146, 148, 157, 165, 166, 171, 176, 181, 186, 191, 193, 202, 203, 213, 214, 218, 222, 229, 235, 241, 242, 248, 251, 265, 266]\n"
     ]
    }
   ],
   "source": [
    "def refusion(itrain,itest):\n",
    "    ia = []\n",
    "    for i in itrain:\n",
    "        ia += i.tolist()    \n",
    "    it = []\n",
    "    for i in itest:\n",
    "        it += i.tolist()\n",
    "    return ia,it\n",
    "\n",
    "ia, it = refusion(itrain,itest)\n",
    "\n",
    "print(ia,it)"
   ]
  },
  {
   "cell_type": "markdown",
   "metadata": {},
   "source": [
    "**Note 2 :** Du fait de la permutation aléatoire, les résultats vont bouger (un peu) à chaque execution du programme. "
   ]
  },
  {
   "cell_type": "markdown",
   "metadata": {},
   "source": [
    "### C1. Questions importantes\n",
    "- Ré-utiliser les fonctions précédemment définies pour apprendre des modèles et les évaluer sans biais.\n",
    "- Calculer et analyser les résultats obtenus en apprentissage et en test\n",
    "- Etudier l'évolution des performances en fonction de la discrétisation"
   ]
  },
  {
   "cell_type": "code",
   "execution_count": 16,
   "metadata": {},
   "outputs": [
    {
     "name": "stderr",
     "output_type": "stream",
     "text": [
      "/var/folders/rg/dd7xvnms5q72qf02psgkl7400000gn/T/ipykernel_1542/999350939.py:2: VisibleDeprecationWarning: Creating an ndarray from ragged nested sequences (which is a list-or-tuple of lists-or-tuples-or ndarrays with different lengths or shapes) is deprecated. If you meant to do this, you must specify 'dtype=object' when creating the ndarray.\n",
      "  Xd = np.array([discretise(x, d) for x in X[ia]])  # application de la discrétisation\n",
      "/var/folders/rg/dd7xvnms5q72qf02psgkl7400000gn/T/ipykernel_1542/3131625227.py:5: RuntimeWarning: divide by zero encountered in log\n",
      "  p = np.log(Pi[s[0]])\n",
      "/var/folders/rg/dd7xvnms5q72qf02psgkl7400000gn/T/ipykernel_1542/3131625227.py:7: RuntimeWarning: divide by zero encountered in log\n",
      "  p += np.log(A[s[i], s[i + 1]])\n"
     ]
    },
    {
     "name": "stdout",
     "output_type": "stream",
     "text": [
      "None\n"
     ]
    },
    {
     "name": "stderr",
     "output_type": "stream",
     "text": [
      "/var/folders/rg/dd7xvnms5q72qf02psgkl7400000gn/T/ipykernel_1542/15682438.py:11: DeprecationWarning: elementwise comparison failed; this will raise an error in the future.\n",
      "  np.where(pred != Ynum, 0.0, 1.0).mean()\n"
     ]
    }
   ],
   "source": [
    "d = 3\n",
    "Xd = np.array([discretise(x, d) for x in X[ia]])  # application de la discrétisation\n",
    "index = groupByLabel(Y[ia])  # groupement des signaux par classe\n",
    "models = []\n",
    "for cl in range(len(np.unique(Y[ia]))): # parcours de toutes les classes et optimisation des modèles\n",
    "    models.append(learnMarkovModel(Xd[index[cl]], d))\n",
    "proba = np.array([[probaSequence(Xd[i], models[cl][0], models[cl][1]) for i in range(len(Xd))]\n",
    "                  for cl in range(len(np.unique(Y)))])\n",
    "\n",
    "print(evaluation(Ynum[it],proba))"
   ]
  },
  {
   "cell_type": "markdown",
   "metadata": {},
   "source": [
    "### C2. Lutter contre le sur-apprentissage\n",
    "Cette base de données met en lumière le phénomène de sur-apprentissage : il y a peu de données et dès que le nombre d'états augmente, il y a trop peu d'exemple pour estimer correctement les matrices {$A, \\pi$}. De nombreuses cases sont donc à 0, voire des lignes entières (d'où la sécurisation du code pour la normalisation des matrices stochastiques).\n",
    "\n",
    "Ces 0 sont particulièrement discriminants: considérant la classe {$c$}, ils permettent d'éliminer de cette classe tout signal présentant cette caractéristique. Cette règle est trop forte compte tenu de la taille de la base d'apprentissage. Nous proposons une astuce pour palier cette faiblesse : lors du comptage, initialiser les matrices {$A, \\pi$} avec ones au lieu de zeros . On fait semblant d'avoir observer une transition de chaque type avant même le début du comptage.\n",
    "\n",
    "Comparer les performances en test."
   ]
  },
  {
   "cell_type": "code",
   "execution_count": 38,
   "metadata": {},
   "outputs": [],
   "source": [
    "def initMarkov1(d):\n",
    "    A = np.ones((d, d))\n",
    "    Pi = np.ones(d)\n",
    "    return A, Pi\n",
    "\n",
    "\n",
    "def learnMarkovModel1(Xc, d):\n",
    "    A, Pi = initMarkov1(d)\n",
    "    for x in Xc:\n",
    "        x = x.astype(int)\n",
    "        Pi[x[0]] += 1\n",
    "        for i in range(len(x) - 1):\n",
    "            A[x[i], x[i + 1]] += 1\n",
    "    Pi = Pi / np.sum(Pi)\n",
    "    A = A / np.maximum(A.sum(1).reshape(d, 1), 1)\n",
    "\n",
    "    return Pi, A\n",
    "\n",
    "def gen_models1(d):\n",
    "    Xd = discretise(X, d)    # application de la discrétisation\n",
    "    index = groupByLabel(Y)  # groupement des signaux par classe\n",
    "    models = []\n",
    "    for cl in range(len(np.unique(Y))): # parcours de toutes les classes et optimisation des modèles\n",
    "        models.append(learnMarkovModel1(Xd[index[cl]], d))\n",
    "    return models\n",
    "\n",
    "models = gen_models1(d)\n",
    "\n"
   ]
  },
  {
   "cell_type": "markdown",
   "metadata": {},
   "source": [
    "## D. Evaluation qualitative\n",
    "\n",
    "Nous nous demandons maintenant où se trouvent les erreurs que nous avons commises...\n",
    "\n",
    "Calcul de la matrice de confusion: pour chaque échantillon de test, nous avons une prédiction (issue du modèle) et une vérité terrain (la vraie étiquette). En posant Nc le nombre de classes, la matrice de confusion est une matrice (Nc x Nc) où nous comptons le nombre d'échantillon de test dans chaque catégorie :\n",
    "\n",
    "- Initialisation à 0 : "
   ]
  },
  {
   "cell_type": "code",
   "execution_count": 18,
   "metadata": {},
   "outputs": [],
   "source": [
    "conf = np.zeros((26,26))"
   ]
  },
  {
   "cell_type": "markdown",
   "metadata": {},
   "source": [
    "- Pour chaque échantillon, incrément de la case (prediction, vérité)"
   ]
  },
  {
   "cell_type": "code",
   "execution_count": 19,
   "metadata": {},
   "outputs": [],
   "source": [
    "# Votre code"
   ]
  },
  {
   "cell_type": "markdown",
   "metadata": {},
   "source": [
    "- Tracé de la matrice : "
   ]
  },
  {
   "cell_type": "code",
   "execution_count": 20,
   "metadata": {},
   "outputs": [
    {
     "data": {
      "text/plain": [
       "Text(0, 0.5, 'Prédiction')"
      ]
     },
     "execution_count": 20,
     "metadata": {},
     "output_type": "execute_result"
    },
    {
     "data": {
      "image/png": "[encoded data removed]",
      "text/plain": [
       "<Figure size 640x480 with 2 Axes>"
      ]
     },
     "metadata": {},
     "output_type": "display_data"
    }
   ],
   "source": [
    "plt.figure()\n",
    "plt.imshow(conf, interpolation = 'nearest')\n",
    "plt.colorbar()\n",
    "plt.xticks(np.arange(26), np.unique(Y))\n",
    "plt.yticks(np.arange(26), np.unique(Y))\n",
    "plt.xlabel(u'Vérité terrain')\n",
    "plt.ylabel(u'Prédiction')\n",
    "#plt.savefig(\"mat_conf_lettres.png\")"
   ]
  },
  {
   "cell_type": "markdown",
   "metadata": {},
   "source": [
    "## E. Modèle génératif\n",
    "\n",
    "Utiliser les modèles appris pour générer de nouvelles lettres manuscrites.\n",
    "\n",
    "### E1. Tirage selon une loi de probabilité discrète\n",
    "\n",
    "- faire la somme cumulée de la loi {$sc$}\n",
    "- tirer un nombre aléatoire {$t$} entre 0 et 1\n",
    "- trouver la première valeur de {$sc$} qui est supérieure à {$t$}\n",
    "- retourner cet état \n",
    "\n",
    "**Note :** comme vu en cours, tout repose sur la somme cumulée (notée ici `sc$`, calculable en appelant `np.cumsum`. Sur un exemple: la loi `V = [0.2, 0.4, 0.3, 0.1]` a pour somme cumulée `V.cumsum() == [0.2,  0.6,  0.9,  1.0]`\n",
    "\n",
    "### E2. Génération d'une séquence de longueur N\n",
    "\n",
    "- tirer un état {$s_0$} selon Pi\n",
    "- tant que la longueur n'est pas atteinte :\n",
    "  - tirer un état {$s_{t+1}$} selon {$A[s_{t}]$} "
   ]
  },
  {
   "cell_type": "code",
   "execution_count": 21,
   "metadata": {},
   "outputs": [],
   "source": [
    "# Votre code"
   ]
  },
  {
   "cell_type": "markdown",
   "metadata": {},
   "source": [
    "### E3. Affichage du résultat"
   ]
  },
  {
   "cell_type": "code",
   "execution_count": 22,
   "metadata": {},
   "outputs": [
    {
     "ename": "NameError",
     "evalue": "name 'generate' is not defined",
     "output_type": "error",
     "traceback": [
      "\u001b[0;31m---------------------------------------------------------------------------\u001b[0m",
      "\u001b[0;31mNameError\u001b[0m                                 Traceback (most recent call last)",
      "Cell \u001b[0;32mIn [22], line 1\u001b[0m\n\u001b[0;32m----> 1\u001b[0m newa \u001b[39m=\u001b[39m generate(models[\u001b[39m0\u001b[39m][\u001b[39m0\u001b[39m], models[\u001b[39m0\u001b[39m][\u001b[39m1\u001b[39m], \u001b[39m20\u001b[39m)       \u001b[39m# generation d'une séquence d'états\u001b[39;00m\n\u001b[1;32m      2\u001b[0m intervalle \u001b[39m=\u001b[39m \u001b[39m360.\u001b[39m \u001b[39m/\u001b[39m d                                 \u001b[39m# pour passer des états => valeur d'angles\u001b[39;00m\n\u001b[1;32m      3\u001b[0m newa_continu \u001b[39m=\u001b[39m np\u001b[39m.\u001b[39marray([i \u001b[39m*\u001b[39m intervalle \u001b[39mfor\u001b[39;00m i \u001b[39min\u001b[39;00m newa]) \u001b[39m# conv int => double\u001b[39;00m\n",
      "\u001b[0;31mNameError\u001b[0m: name 'generate' is not defined"
     ]
    }
   ],
   "source": [
    "newa = generate(models[0][0], models[0][1], 20)       # generation d'une séquence d'états\n",
    "intervalle = 360. / d                                 # pour passer des états => valeur d'angles\n",
    "newa_continu = np.array([i * intervalle for i in newa]) # conv int => double\n",
    "tracerLettre(newa_continu)"
   ]
  }
 ],
 "metadata": {
  "kernelspec": {
   "display_name": "Python 3.10.6 ('MAPSI')",
   "language": "python",
   "name": "python3"
  },
  "language_info": {
   "codemirror_mode": {
    "name": "ipython",
    "version": 3
   },
   "file_extension": ".py",
   "mimetype": "text/x-python",
   "name": "python",
   "nbconvert_exporter": "python",
   "pygments_lexer": "ipython3",
   "version": "3.10.6"
  },
  "vscode": {
   "interpreter": {
    "hash": "6cd79503748b5223e5db4f7a1bfb24a442e426267ae75455059d26da2b218ee8"
   }
  }
 },
 "nbformat": 4,
 "nbformat_minor": 4
}
